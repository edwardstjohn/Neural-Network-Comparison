{
 "cells": [
  {
   "cell_type": "markdown",
   "id": "210bb4bb",
   "metadata": {},
   "source": [
    "### Table of Contents\n",
    "\n",
    "* [Chapter 1 - Imports](#chapter1)\n",
    "* [Chapter 2 - Data Cleaning](#chapter2)\n",
    "* [Chapter 3 - Pre-processing](#chapter3)\n",
    "* [Chapter 4 - Model creation](#chapter4)\n",
    "* [Chapter 5 - Model testing](#chapter5)"
   ]
  },
  {
   "cell_type": "markdown",
   "id": "nGoZoh0vDg7Z",
   "metadata": {
    "id": "nGoZoh0vDg7Z"
   },
   "source": [
    "### Imports <a class=\"anchor\" id=\"chapter1\"></a>"
   ]
  },
  {
   "cell_type": "code",
   "execution_count": 39,
   "id": "4e2e7a24",
   "metadata": {
    "id": "4e2e7a24"
   },
   "outputs": [],
   "source": [
    "# Importing libraries\n",
    "import pandas as pd\n",
    "import numpy as np\n",
    "import matplotlib.pyplot as plt\n",
    "import seaborn as sns\n",
    "from imblearn.over_sampling import SMOTE\n",
    "from sklearn.preprocessing import LabelEncoder\n",
    "from sklearn.model_selection import train_test_split\n",
    "from sklearn.model_selection import GridSearchCV\n",
    "from sklearn.model_selection import cross_validate\n",
    "from sklearn.model_selection import cross_val_score\n",
    "from sklearn.model_selection import learning_curve\n",
    "from sklearn import metrics\n",
    "from sklearn.metrics import confusion_matrix\n",
    "from sklearn.metrics import accuracy_score\n",
    "from sklearn.metrics import recall_score\n",
    "from sklearn.metrics import precision_recall_fscore_support\n",
    "from sklearn.metrics import plot_confusion_matrix\n",
    "from sklearn.metrics import classification_report\n",
    "from sklearn.svm import SVC\n",
    "from sklearn.neural_network import MLPClassifier\n",
    "from sklearn.preprocessing import StandardScaler\n",
    "from sklearn.preprocessing import MinMaxScaler\n",
    "from scipy.interpolate import pchip\n",
    "from imblearn.pipeline import Pipeline\n",
    "import time\n",
    "from joblib import dump\n",
    "from joblib import load\n",
    "import warnings\n",
    "from sklearn.exceptions import ConvergenceWarning\n",
    "warnings.filterwarnings(action='ignore', category=ConvergenceWarning)"
   ]
  },
  {
   "cell_type": "code",
   "execution_count": 40,
   "id": "a82e2aee",
   "metadata": {
    "id": "a82e2aee"
   },
   "outputs": [],
   "source": [
    "# Importing dataset\n",
    "df = pd.read_csv('bank.csv', sep=';', header=0)"
   ]
  },
  {
   "cell_type": "markdown",
   "id": "db0e4501",
   "metadata": {
    "id": "db0e4501"
   },
   "source": [
    "### Data Cleaning <a class=\"anchor\" id=\"chapter2\"></a>"
   ]
  },
  {
   "cell_type": "code",
   "execution_count": 41,
   "id": "e6aced6a",
   "metadata": {
    "colab": {
     "base_uri": "https://localhost:8080/",
     "height": 269
    },
    "id": "e6aced6a",
    "outputId": "db085e75-2f2a-4dc1-b742-ececcb4afb26"
   },
   "outputs": [
    {
     "data": {
      "text/html": [
       "<div>\n",
       "<style scoped>\n",
       "    .dataframe tbody tr th:only-of-type {\n",
       "        vertical-align: middle;\n",
       "    }\n",
       "\n",
       "    .dataframe tbody tr th {\n",
       "        vertical-align: top;\n",
       "    }\n",
       "\n",
       "    .dataframe thead th {\n",
       "        text-align: right;\n",
       "    }\n",
       "</style>\n",
       "<table border=\"1\" class=\"dataframe\">\n",
       "  <thead>\n",
       "    <tr style=\"text-align: right;\">\n",
       "      <th></th>\n",
       "      <th>count</th>\n",
       "      <th>mean</th>\n",
       "      <th>std</th>\n",
       "      <th>min</th>\n",
       "      <th>25%</th>\n",
       "      <th>50%</th>\n",
       "      <th>75%</th>\n",
       "      <th>max</th>\n",
       "    </tr>\n",
       "  </thead>\n",
       "  <tbody>\n",
       "    <tr>\n",
       "      <th>age</th>\n",
       "      <td>4521.0</td>\n",
       "      <td>41.17</td>\n",
       "      <td>10.58</td>\n",
       "      <td>19.0</td>\n",
       "      <td>33.0</td>\n",
       "      <td>39.0</td>\n",
       "      <td>49.0</td>\n",
       "      <td>87.0</td>\n",
       "    </tr>\n",
       "    <tr>\n",
       "      <th>balance</th>\n",
       "      <td>4521.0</td>\n",
       "      <td>1422.66</td>\n",
       "      <td>3009.64</td>\n",
       "      <td>-3313.0</td>\n",
       "      <td>69.0</td>\n",
       "      <td>444.0</td>\n",
       "      <td>1480.0</td>\n",
       "      <td>71188.0</td>\n",
       "    </tr>\n",
       "    <tr>\n",
       "      <th>day</th>\n",
       "      <td>4521.0</td>\n",
       "      <td>15.92</td>\n",
       "      <td>8.25</td>\n",
       "      <td>1.0</td>\n",
       "      <td>9.0</td>\n",
       "      <td>16.0</td>\n",
       "      <td>21.0</td>\n",
       "      <td>31.0</td>\n",
       "    </tr>\n",
       "    <tr>\n",
       "      <th>duration</th>\n",
       "      <td>4521.0</td>\n",
       "      <td>263.96</td>\n",
       "      <td>259.86</td>\n",
       "      <td>4.0</td>\n",
       "      <td>104.0</td>\n",
       "      <td>185.0</td>\n",
       "      <td>329.0</td>\n",
       "      <td>3025.0</td>\n",
       "    </tr>\n",
       "    <tr>\n",
       "      <th>campaign</th>\n",
       "      <td>4521.0</td>\n",
       "      <td>2.79</td>\n",
       "      <td>3.11</td>\n",
       "      <td>1.0</td>\n",
       "      <td>1.0</td>\n",
       "      <td>2.0</td>\n",
       "      <td>3.0</td>\n",
       "      <td>50.0</td>\n",
       "    </tr>\n",
       "    <tr>\n",
       "      <th>pdays</th>\n",
       "      <td>4521.0</td>\n",
       "      <td>39.77</td>\n",
       "      <td>100.12</td>\n",
       "      <td>-1.0</td>\n",
       "      <td>-1.0</td>\n",
       "      <td>-1.0</td>\n",
       "      <td>-1.0</td>\n",
       "      <td>871.0</td>\n",
       "    </tr>\n",
       "    <tr>\n",
       "      <th>previous</th>\n",
       "      <td>4521.0</td>\n",
       "      <td>0.54</td>\n",
       "      <td>1.69</td>\n",
       "      <td>0.0</td>\n",
       "      <td>0.0</td>\n",
       "      <td>0.0</td>\n",
       "      <td>0.0</td>\n",
       "      <td>25.0</td>\n",
       "    </tr>\n",
       "  </tbody>\n",
       "</table>\n",
       "</div>"
      ],
      "text/plain": [
       "           count     mean      std     min    25%    50%     75%      max\n",
       "age       4521.0    41.17    10.58    19.0   33.0   39.0    49.0     87.0\n",
       "balance   4521.0  1422.66  3009.64 -3313.0   69.0  444.0  1480.0  71188.0\n",
       "day       4521.0    15.92     8.25     1.0    9.0   16.0    21.0     31.0\n",
       "duration  4521.0   263.96   259.86     4.0  104.0  185.0   329.0   3025.0\n",
       "campaign  4521.0     2.79     3.11     1.0    1.0    2.0     3.0     50.0\n",
       "pdays     4521.0    39.77   100.12    -1.0   -1.0   -1.0    -1.0    871.0\n",
       "previous  4521.0     0.54     1.69     0.0    0.0    0.0     0.0     25.0"
      ]
     },
     "execution_count": 41,
     "metadata": {},
     "output_type": "execute_result"
    }
   ],
   "source": [
    "# See some brief overviews\n",
    "pd.set_option(\"display.precision\", 2)\n",
    "num_desc = df.describe()\n",
    "num_desc.transpose()"
   ]
  },
  {
   "cell_type": "code",
   "execution_count": 42,
   "id": "99VsM3DNhTvj",
   "metadata": {
    "colab": {
     "base_uri": "https://localhost:8080/",
     "height": 363
    },
    "id": "99VsM3DNhTvj",
    "outputId": "d60dc538-62b1-4e5f-8dde-86a8423494aa"
   },
   "outputs": [
    {
     "data": {
      "text/html": [
       "<div>\n",
       "<style scoped>\n",
       "    .dataframe tbody tr th:only-of-type {\n",
       "        vertical-align: middle;\n",
       "    }\n",
       "\n",
       "    .dataframe tbody tr th {\n",
       "        vertical-align: top;\n",
       "    }\n",
       "\n",
       "    .dataframe thead th {\n",
       "        text-align: right;\n",
       "    }\n",
       "</style>\n",
       "<table border=\"1\" class=\"dataframe\">\n",
       "  <thead>\n",
       "    <tr style=\"text-align: right;\">\n",
       "      <th></th>\n",
       "      <th>count</th>\n",
       "      <th>unique</th>\n",
       "      <th>top</th>\n",
       "      <th>freq</th>\n",
       "    </tr>\n",
       "  </thead>\n",
       "  <tbody>\n",
       "    <tr>\n",
       "      <th>job</th>\n",
       "      <td>4521</td>\n",
       "      <td>12</td>\n",
       "      <td>management</td>\n",
       "      <td>969</td>\n",
       "    </tr>\n",
       "    <tr>\n",
       "      <th>marital</th>\n",
       "      <td>4521</td>\n",
       "      <td>3</td>\n",
       "      <td>married</td>\n",
       "      <td>2797</td>\n",
       "    </tr>\n",
       "    <tr>\n",
       "      <th>education</th>\n",
       "      <td>4521</td>\n",
       "      <td>4</td>\n",
       "      <td>secondary</td>\n",
       "      <td>2306</td>\n",
       "    </tr>\n",
       "    <tr>\n",
       "      <th>default</th>\n",
       "      <td>4521</td>\n",
       "      <td>2</td>\n",
       "      <td>no</td>\n",
       "      <td>4445</td>\n",
       "    </tr>\n",
       "    <tr>\n",
       "      <th>housing</th>\n",
       "      <td>4521</td>\n",
       "      <td>2</td>\n",
       "      <td>yes</td>\n",
       "      <td>2559</td>\n",
       "    </tr>\n",
       "    <tr>\n",
       "      <th>loan</th>\n",
       "      <td>4521</td>\n",
       "      <td>2</td>\n",
       "      <td>no</td>\n",
       "      <td>3830</td>\n",
       "    </tr>\n",
       "    <tr>\n",
       "      <th>contact</th>\n",
       "      <td>4521</td>\n",
       "      <td>3</td>\n",
       "      <td>cellular</td>\n",
       "      <td>2896</td>\n",
       "    </tr>\n",
       "    <tr>\n",
       "      <th>month</th>\n",
       "      <td>4521</td>\n",
       "      <td>12</td>\n",
       "      <td>may</td>\n",
       "      <td>1398</td>\n",
       "    </tr>\n",
       "    <tr>\n",
       "      <th>poutcome</th>\n",
       "      <td>4521</td>\n",
       "      <td>4</td>\n",
       "      <td>unknown</td>\n",
       "      <td>3705</td>\n",
       "    </tr>\n",
       "    <tr>\n",
       "      <th>y</th>\n",
       "      <td>4521</td>\n",
       "      <td>2</td>\n",
       "      <td>no</td>\n",
       "      <td>4000</td>\n",
       "    </tr>\n",
       "  </tbody>\n",
       "</table>\n",
       "</div>"
      ],
      "text/plain": [
       "          count unique         top  freq\n",
       "job        4521     12  management   969\n",
       "marital    4521      3     married  2797\n",
       "education  4521      4   secondary  2306\n",
       "default    4521      2          no  4445\n",
       "housing    4521      2         yes  2559\n",
       "loan       4521      2          no  3830\n",
       "contact    4521      3    cellular  2896\n",
       "month      4521     12         may  1398\n",
       "poutcome   4521      4     unknown  3705\n",
       "y          4521      2          no  4000"
      ]
     },
     "execution_count": 42,
     "metadata": {},
     "output_type": "execute_result"
    }
   ],
   "source": [
    "# See overview of categorical variables\n",
    "cat_desc = df.describe(include=object)\n",
    "cat_desc.transpose()"
   ]
  },
  {
   "cell_type": "code",
   "execution_count": 43,
   "id": "2361a34e",
   "metadata": {
    "colab": {
     "base_uri": "https://localhost:8080/",
     "height": 270
    },
    "id": "2361a34e",
    "outputId": "0151c2da-d813-43a4-b161-988d2fa13d9c"
   },
   "outputs": [
    {
     "data": {
      "text/html": [
       "<div>\n",
       "<style scoped>\n",
       "    .dataframe tbody tr th:only-of-type {\n",
       "        vertical-align: middle;\n",
       "    }\n",
       "\n",
       "    .dataframe tbody tr th {\n",
       "        vertical-align: top;\n",
       "    }\n",
       "\n",
       "    .dataframe thead th {\n",
       "        text-align: right;\n",
       "    }\n",
       "</style>\n",
       "<table border=\"1\" class=\"dataframe\">\n",
       "  <thead>\n",
       "    <tr style=\"text-align: right;\">\n",
       "      <th></th>\n",
       "      <th>age</th>\n",
       "      <th>job</th>\n",
       "      <th>marital</th>\n",
       "      <th>education</th>\n",
       "      <th>default</th>\n",
       "      <th>balance</th>\n",
       "      <th>housing</th>\n",
       "      <th>loan</th>\n",
       "      <th>contact</th>\n",
       "      <th>day</th>\n",
       "      <th>month</th>\n",
       "      <th>duration</th>\n",
       "      <th>campaign</th>\n",
       "      <th>pdays</th>\n",
       "      <th>previous</th>\n",
       "      <th>poutcome</th>\n",
       "      <th>y</th>\n",
       "    </tr>\n",
       "  </thead>\n",
       "  <tbody>\n",
       "    <tr>\n",
       "      <th>0</th>\n",
       "      <td>30</td>\n",
       "      <td>unemployed</td>\n",
       "      <td>married</td>\n",
       "      <td>primary</td>\n",
       "      <td>no</td>\n",
       "      <td>1787</td>\n",
       "      <td>no</td>\n",
       "      <td>no</td>\n",
       "      <td>cellular</td>\n",
       "      <td>19</td>\n",
       "      <td>oct</td>\n",
       "      <td>79</td>\n",
       "      <td>1</td>\n",
       "      <td>-1</td>\n",
       "      <td>0</td>\n",
       "      <td>unknown</td>\n",
       "      <td>no</td>\n",
       "    </tr>\n",
       "    <tr>\n",
       "      <th>1</th>\n",
       "      <td>33</td>\n",
       "      <td>services</td>\n",
       "      <td>married</td>\n",
       "      <td>secondary</td>\n",
       "      <td>no</td>\n",
       "      <td>4789</td>\n",
       "      <td>yes</td>\n",
       "      <td>yes</td>\n",
       "      <td>cellular</td>\n",
       "      <td>11</td>\n",
       "      <td>may</td>\n",
       "      <td>220</td>\n",
       "      <td>1</td>\n",
       "      <td>339</td>\n",
       "      <td>4</td>\n",
       "      <td>failure</td>\n",
       "      <td>no</td>\n",
       "    </tr>\n",
       "    <tr>\n",
       "      <th>2</th>\n",
       "      <td>35</td>\n",
       "      <td>management</td>\n",
       "      <td>single</td>\n",
       "      <td>tertiary</td>\n",
       "      <td>no</td>\n",
       "      <td>1350</td>\n",
       "      <td>yes</td>\n",
       "      <td>no</td>\n",
       "      <td>cellular</td>\n",
       "      <td>16</td>\n",
       "      <td>apr</td>\n",
       "      <td>185</td>\n",
       "      <td>1</td>\n",
       "      <td>330</td>\n",
       "      <td>1</td>\n",
       "      <td>failure</td>\n",
       "      <td>no</td>\n",
       "    </tr>\n",
       "    <tr>\n",
       "      <th>3</th>\n",
       "      <td>30</td>\n",
       "      <td>management</td>\n",
       "      <td>married</td>\n",
       "      <td>tertiary</td>\n",
       "      <td>no</td>\n",
       "      <td>1476</td>\n",
       "      <td>yes</td>\n",
       "      <td>yes</td>\n",
       "      <td>unknown</td>\n",
       "      <td>3</td>\n",
       "      <td>jun</td>\n",
       "      <td>199</td>\n",
       "      <td>4</td>\n",
       "      <td>-1</td>\n",
       "      <td>0</td>\n",
       "      <td>unknown</td>\n",
       "      <td>no</td>\n",
       "    </tr>\n",
       "    <tr>\n",
       "      <th>4</th>\n",
       "      <td>59</td>\n",
       "      <td>blue-collar</td>\n",
       "      <td>married</td>\n",
       "      <td>secondary</td>\n",
       "      <td>no</td>\n",
       "      <td>0</td>\n",
       "      <td>yes</td>\n",
       "      <td>no</td>\n",
       "      <td>unknown</td>\n",
       "      <td>5</td>\n",
       "      <td>may</td>\n",
       "      <td>226</td>\n",
       "      <td>1</td>\n",
       "      <td>-1</td>\n",
       "      <td>0</td>\n",
       "      <td>unknown</td>\n",
       "      <td>no</td>\n",
       "    </tr>\n",
       "  </tbody>\n",
       "</table>\n",
       "</div>"
      ],
      "text/plain": [
       "   age          job  marital  education default  balance housing loan  \\\n",
       "0   30   unemployed  married    primary      no     1787      no   no   \n",
       "1   33     services  married  secondary      no     4789     yes  yes   \n",
       "2   35   management   single   tertiary      no     1350     yes   no   \n",
       "3   30   management  married   tertiary      no     1476     yes  yes   \n",
       "4   59  blue-collar  married  secondary      no        0     yes   no   \n",
       "\n",
       "    contact  day month  duration  campaign  pdays  previous poutcome   y  \n",
       "0  cellular   19   oct        79         1     -1         0  unknown  no  \n",
       "1  cellular   11   may       220         1    339         4  failure  no  \n",
       "2  cellular   16   apr       185         1    330         1  failure  no  \n",
       "3   unknown    3   jun       199         4     -1         0  unknown  no  \n",
       "4   unknown    5   may       226         1     -1         0  unknown  no  "
      ]
     },
     "execution_count": 43,
     "metadata": {},
     "output_type": "execute_result"
    }
   ],
   "source": [
    "df.head()"
   ]
  },
  {
   "cell_type": "code",
   "execution_count": 44,
   "id": "2859d687",
   "metadata": {
    "colab": {
     "base_uri": "https://localhost:8080/"
    },
    "id": "2859d687",
    "outputId": "feec6f74-b212-4d87-e2fa-0e44fd340010"
   },
   "outputs": [
    {
     "name": "stdout",
     "output_type": "stream",
     "text": [
      "<class 'pandas.core.frame.DataFrame'>\n",
      "RangeIndex: 4521 entries, 0 to 4520\n",
      "Data columns (total 17 columns):\n",
      " #   Column     Non-Null Count  Dtype \n",
      "---  ------     --------------  ----- \n",
      " 0   age        4521 non-null   int64 \n",
      " 1   job        4521 non-null   object\n",
      " 2   marital    4521 non-null   object\n",
      " 3   education  4521 non-null   object\n",
      " 4   default    4521 non-null   object\n",
      " 5   balance    4521 non-null   int64 \n",
      " 6   housing    4521 non-null   object\n",
      " 7   loan       4521 non-null   object\n",
      " 8   contact    4521 non-null   object\n",
      " 9   day        4521 non-null   int64 \n",
      " 10  month      4521 non-null   object\n",
      " 11  duration   4521 non-null   int64 \n",
      " 12  campaign   4521 non-null   int64 \n",
      " 13  pdays      4521 non-null   int64 \n",
      " 14  previous   4521 non-null   int64 \n",
      " 15  poutcome   4521 non-null   object\n",
      " 16  y          4521 non-null   object\n",
      "dtypes: int64(7), object(10)\n",
      "memory usage: 600.6+ KB\n"
     ]
    }
   ],
   "source": [
    "df.info()"
   ]
  },
  {
   "cell_type": "code",
   "execution_count": 45,
   "id": "8ecd84b7",
   "metadata": {
    "colab": {
     "base_uri": "https://localhost:8080/"
    },
    "id": "8ecd84b7",
    "outputId": "0782f7c2-1b7a-4aac-8c7f-b88017ca5abf"
   },
   "outputs": [
    {
     "name": "stdout",
     "output_type": "stream",
     "text": [
      "job\n",
      "['unemployed' 'services' 'management' 'blue-collar' 'self-employed'\n",
      " 'technician' 'entrepreneur' 'admin.' 'student' 'housemaid' 'retired'\n",
      " 'unknown']\n",
      "marital\n",
      "['married' 'single' 'divorced']\n",
      "education\n",
      "['primary' 'secondary' 'tertiary' 'unknown']\n",
      "default\n",
      "['no' 'yes']\n",
      "housing\n",
      "['no' 'yes']\n",
      "loan\n",
      "['no' 'yes']\n",
      "contact\n",
      "['cellular' 'unknown' 'telephone']\n",
      "month\n",
      "['oct' 'may' 'apr' 'jun' 'feb' 'aug' 'jan' 'jul' 'nov' 'sep' 'mar' 'dec']\n",
      "poutcome\n",
      "['unknown' 'failure' 'other' 'success']\n",
      "y\n",
      "['no' 'yes']\n"
     ]
    }
   ],
   "source": [
    "# Checking values for all categorical columns\n",
    "for col in df.columns:\n",
    "    if df[col].dtype == object:\n",
    "        print(col)\n",
    "        print(df[col].unique())"
   ]
  },
  {
   "cell_type": "code",
   "execution_count": 46,
   "id": "0d041d19",
   "metadata": {
    "colab": {
     "base_uri": "https://localhost:8080/"
    },
    "id": "0d041d19",
    "outputId": "234347db-d2c4-402c-8ac8-ef03f055561b"
   },
   "outputs": [
    {
     "data": {
      "text/plain": [
       "0"
      ]
     },
     "execution_count": 46,
     "metadata": {},
     "output_type": "execute_result"
    }
   ],
   "source": [
    "# Checking for null values\n",
    "df.isna().any().sum()"
   ]
  },
  {
   "cell_type": "code",
   "execution_count": 47,
   "id": "e2159d6f",
   "metadata": {
    "colab": {
     "base_uri": "https://localhost:8080/",
     "height": 113
    },
    "id": "e2159d6f",
    "outputId": "e8066192-b451-4507-c898-037d00b5731f"
   },
   "outputs": [
    {
     "data": {
      "text/html": [
       "<div>\n",
       "<style scoped>\n",
       "    .dataframe tbody tr th:only-of-type {\n",
       "        vertical-align: middle;\n",
       "    }\n",
       "\n",
       "    .dataframe tbody tr th {\n",
       "        vertical-align: top;\n",
       "    }\n",
       "\n",
       "    .dataframe thead th {\n",
       "        text-align: right;\n",
       "    }\n",
       "</style>\n",
       "<table border=\"1\" class=\"dataframe\">\n",
       "  <thead>\n",
       "    <tr style=\"text-align: right;\">\n",
       "      <th></th>\n",
       "      <th>age</th>\n",
       "      <th>job</th>\n",
       "      <th>marital</th>\n",
       "      <th>education</th>\n",
       "      <th>default</th>\n",
       "      <th>balance</th>\n",
       "      <th>housing</th>\n",
       "      <th>loan</th>\n",
       "      <th>contact</th>\n",
       "      <th>day</th>\n",
       "      <th>month</th>\n",
       "      <th>duration</th>\n",
       "      <th>campaign</th>\n",
       "      <th>pdays</th>\n",
       "      <th>previous</th>\n",
       "      <th>poutcome</th>\n",
       "      <th>y</th>\n",
       "    </tr>\n",
       "  </thead>\n",
       "  <tbody>\n",
       "  </tbody>\n",
       "</table>\n",
       "</div>"
      ],
      "text/plain": [
       "Empty DataFrame\n",
       "Columns: [age, job, marital, education, default, balance, housing, loan, contact, day, month, duration, campaign, pdays, previous, poutcome, y]\n",
       "Index: []"
      ]
     },
     "execution_count": 47,
     "metadata": {},
     "output_type": "execute_result"
    }
   ],
   "source": [
    "# Checking if any calls had a length of 0 (indicating these lines should be removed)\n",
    "df[(df['duration'] == 0)]"
   ]
  },
  {
   "cell_type": "code",
   "execution_count": 48,
   "id": "a612863f",
   "metadata": {
    "colab": {
     "base_uri": "https://localhost:8080/",
     "height": 279
    },
    "id": "a612863f",
    "outputId": "f9d1e664-9447-4ca2-9396-62947b432a37"
   },
   "outputs": [
    {
     "data": {
      "image/png": "[encoded data removed]",
      "text/plain": [
       "<Figure size 432x288 with 1 Axes>"
      ]
     },
     "metadata": {
      "needs_background": "light"
     },
     "output_type": "display_data"
    }
   ],
   "source": [
    "# Seeing distribution of deposits to see following variables in context\n",
    "sns.countplot(x = 'y', data = df)\n",
    "plt.show()"
   ]
  },
  {
   "cell_type": "code",
   "execution_count": 49,
   "id": "80506846",
   "metadata": {
    "colab": {
     "base_uri": "https://localhost:8080/"
    },
    "id": "80506846",
    "outputId": "3f016f47-d690-472e-c1e4-2cdd39588105"
   },
   "outputs": [
    {
     "data": {
      "text/plain": [
       "y    job          \n",
       "no   admin.           420\n",
       "     blue-collar      877\n",
       "     entrepreneur     153\n",
       "     housemaid         98\n",
       "     management       838\n",
       "     retired          176\n",
       "     self-employed    163\n",
       "     services         379\n",
       "     student           65\n",
       "     technician       685\n",
       "     unemployed       115\n",
       "     unknown           31\n",
       "yes  admin.            58\n",
       "     blue-collar       69\n",
       "     entrepreneur      15\n",
       "     housemaid         14\n",
       "     management       131\n",
       "     retired           54\n",
       "     self-employed     20\n",
       "     services          38\n",
       "     student           19\n",
       "     technician        83\n",
       "     unemployed        13\n",
       "     unknown            7\n",
       "dtype: int64"
      ]
     },
     "execution_count": 49,
     "metadata": {},
     "output_type": "execute_result"
    }
   ],
   "source": [
    "# Seeing distribution of unknown jobs\n",
    "df.groupby(['y', 'job']).size()"
   ]
  },
  {
   "cell_type": "code",
   "execution_count": 50,
   "id": "a654163c",
   "metadata": {
    "colab": {
     "base_uri": "https://localhost:8080/"
    },
    "id": "a654163c",
    "outputId": "ebec4ef9-97e7-4406-cbb1-6b4c756393a5"
   },
   "outputs": [
    {
     "data": {
      "text/plain": [
       "y    job          \n",
       "no   admin.           420\n",
       "     blue-collar      877\n",
       "     entrepreneur     153\n",
       "     housemaid         98\n",
       "     management       838\n",
       "     retired          176\n",
       "     self-employed    163\n",
       "     services         379\n",
       "     student           65\n",
       "     technician       685\n",
       "     unemployed       115\n",
       "yes  admin.            58\n",
       "     blue-collar       69\n",
       "     entrepreneur      15\n",
       "     housemaid         14\n",
       "     management       131\n",
       "     retired           54\n",
       "     self-employed     20\n",
       "     services          38\n",
       "     student           19\n",
       "     technician        83\n",
       "     unemployed        13\n",
       "dtype: int64"
      ]
     },
     "execution_count": 50,
     "metadata": {},
     "output_type": "execute_result"
    }
   ],
   "source": [
    "# dropping unknown as not too many values but could affect models\n",
    "df = df[df['job'] != 'unknown']\n",
    "df.groupby(['y', 'job']).size()"
   ]
  },
  {
   "cell_type": "code",
   "execution_count": 51,
   "id": "0528218a",
   "metadata": {
    "colab": {
     "base_uri": "https://localhost:8080/"
    },
    "id": "0528218a",
    "outputId": "127239a6-6342-4d8e-94cb-86c76694a7ec"
   },
   "outputs": [
    {
     "data": {
      "text/plain": [
       "y    education\n",
       "no   primary       609\n",
       "     secondary    2054\n",
       "     tertiary     1150\n",
       "     unknown       156\n",
       "yes  primary        62\n",
       "     secondary     244\n",
       "     tertiary      192\n",
       "     unknown        16\n",
       "dtype: int64"
      ]
     },
     "execution_count": 51,
     "metadata": {},
     "output_type": "execute_result"
    }
   ],
   "source": [
    "# Seeing distribution of unknown education\n",
    "df.groupby(['y', 'education']).size()"
   ]
  },
  {
   "cell_type": "code",
   "execution_count": 52,
   "id": "993661b6",
   "metadata": {
    "colab": {
     "base_uri": "https://localhost:8080/"
    },
    "id": "993661b6",
    "outputId": "b0689951-3df2-4098-8f3d-1d8d3aded89e"
   },
   "outputs": [
    {
     "data": {
      "text/plain": [
       "y    education\n",
       "no   primary       609\n",
       "     secondary    2054\n",
       "     tertiary     1150\n",
       "yes  primary        62\n",
       "     secondary     244\n",
       "     tertiary      192\n",
       "dtype: int64"
      ]
     },
     "execution_count": 52,
     "metadata": {},
     "output_type": "execute_result"
    }
   ],
   "source": [
    "# dropping unknown as not too many values but could affect models\n",
    "df = df[df['education'] != 'unknown']\n",
    "df.groupby(['y', 'education']).size()"
   ]
  },
  {
   "cell_type": "code",
   "execution_count": 53,
   "id": "99cb9834",
   "metadata": {
    "colab": {
     "base_uri": "https://localhost:8080/"
    },
    "id": "99cb9834",
    "outputId": "c03d31b3-f7ab-42cc-b2b0-7d9cefb4fe2f"
   },
   "outputs": [
    {
     "data": {
      "text/plain": [
       "y    balance\n",
       "no   -3313      1\n",
       "     -2082      1\n",
       "     -1746      1\n",
       "     -1680      1\n",
       "     -1400      1\n",
       "               ..\n",
       "yes   11262     1\n",
       "      12569     1\n",
       "      14220     1\n",
       "      19317     1\n",
       "      26965     1\n",
       "Length: 2519, dtype: int64"
      ]
     },
     "execution_count": 53,
     "metadata": {},
     "output_type": "execute_result"
    }
   ],
   "source": [
    "# Seeing distribution of balances\n",
    "df.groupby(['y', 'balance']).size()"
   ]
  },
  {
   "cell_type": "code",
   "execution_count": 54,
   "id": "68835328",
   "metadata": {
    "id": "68835328"
   },
   "outputs": [],
   "source": [
    "# While there is a large distribution, seems relevant that higher balances are more likely\n",
    "# to deposit than those in overdraft"
   ]
  },
  {
   "cell_type": "code",
   "execution_count": 55,
   "id": "aaae68eb",
   "metadata": {
    "colab": {
     "base_uri": "https://localhost:8080/"
    },
    "id": "aaae68eb",
    "outputId": "79e9060b-422c-4902-d495-a0803595b534"
   },
   "outputs": [
    {
     "data": {
      "text/plain": [
       "y    loan\n",
       "no   no      3172\n",
       "     yes      641\n",
       "yes  no       456\n",
       "     yes       42\n",
       "dtype: int64"
      ]
     },
     "execution_count": 55,
     "metadata": {},
     "output_type": "execute_result"
    }
   ],
   "source": [
    "# Seeing distribution of loans\n",
    "df.groupby(['y', 'loan']).size()"
   ]
  },
  {
   "cell_type": "code",
   "execution_count": 56,
   "id": "030c4099",
   "metadata": {
    "id": "030c4099"
   },
   "outputs": [],
   "source": [
    "# Reasonable distribution, worth keeping"
   ]
  },
  {
   "cell_type": "code",
   "execution_count": 57,
   "id": "ab728788",
   "metadata": {
    "colab": {
     "base_uri": "https://localhost:8080/"
    },
    "id": "ab728788",
    "outputId": "3c1acf91-be89-404b-934c-dd3b371c1bcc"
   },
   "outputs": [
    {
     "data": {
      "text/plain": [
       "y    contact  \n",
       "no   cellular     2386\n",
       "     telephone     240\n",
       "     unknown      1187\n",
       "yes  cellular      398\n",
       "     telephone      40\n",
       "     unknown        60\n",
       "dtype: int64"
      ]
     },
     "execution_count": 57,
     "metadata": {},
     "output_type": "execute_result"
    }
   ],
   "source": [
    "# Seeing distribution of contact\n",
    "df.groupby(['y', 'contact']).size()"
   ]
  },
  {
   "cell_type": "code",
   "execution_count": 58,
   "id": "17972248",
   "metadata": {
    "colab": {
     "base_uri": "https://localhost:8080/",
     "height": 270
    },
    "id": "17972248",
    "outputId": "52607cc0-0356-43d7-dc54-0475f9fb1a9b"
   },
   "outputs": [
    {
     "data": {
      "text/html": [
       "<div>\n",
       "<style scoped>\n",
       "    .dataframe tbody tr th:only-of-type {\n",
       "        vertical-align: middle;\n",
       "    }\n",
       "\n",
       "    .dataframe tbody tr th {\n",
       "        vertical-align: top;\n",
       "    }\n",
       "\n",
       "    .dataframe thead th {\n",
       "        text-align: right;\n",
       "    }\n",
       "</style>\n",
       "<table border=\"1\" class=\"dataframe\">\n",
       "  <thead>\n",
       "    <tr style=\"text-align: right;\">\n",
       "      <th></th>\n",
       "      <th>age</th>\n",
       "      <th>job</th>\n",
       "      <th>marital</th>\n",
       "      <th>education</th>\n",
       "      <th>default</th>\n",
       "      <th>balance</th>\n",
       "      <th>housing</th>\n",
       "      <th>loan</th>\n",
       "      <th>day</th>\n",
       "      <th>month</th>\n",
       "      <th>duration</th>\n",
       "      <th>campaign</th>\n",
       "      <th>pdays</th>\n",
       "      <th>previous</th>\n",
       "      <th>poutcome</th>\n",
       "      <th>y</th>\n",
       "    </tr>\n",
       "  </thead>\n",
       "  <tbody>\n",
       "    <tr>\n",
       "      <th>0</th>\n",
       "      <td>30</td>\n",
       "      <td>unemployed</td>\n",
       "      <td>married</td>\n",
       "      <td>primary</td>\n",
       "      <td>no</td>\n",
       "      <td>1787</td>\n",
       "      <td>no</td>\n",
       "      <td>no</td>\n",
       "      <td>19</td>\n",
       "      <td>oct</td>\n",
       "      <td>79</td>\n",
       "      <td>1</td>\n",
       "      <td>-1</td>\n",
       "      <td>0</td>\n",
       "      <td>unknown</td>\n",
       "      <td>no</td>\n",
       "    </tr>\n",
       "    <tr>\n",
       "      <th>1</th>\n",
       "      <td>33</td>\n",
       "      <td>services</td>\n",
       "      <td>married</td>\n",
       "      <td>secondary</td>\n",
       "      <td>no</td>\n",
       "      <td>4789</td>\n",
       "      <td>yes</td>\n",
       "      <td>yes</td>\n",
       "      <td>11</td>\n",
       "      <td>may</td>\n",
       "      <td>220</td>\n",
       "      <td>1</td>\n",
       "      <td>339</td>\n",
       "      <td>4</td>\n",
       "      <td>failure</td>\n",
       "      <td>no</td>\n",
       "    </tr>\n",
       "    <tr>\n",
       "      <th>2</th>\n",
       "      <td>35</td>\n",
       "      <td>management</td>\n",
       "      <td>single</td>\n",
       "      <td>tertiary</td>\n",
       "      <td>no</td>\n",
       "      <td>1350</td>\n",
       "      <td>yes</td>\n",
       "      <td>no</td>\n",
       "      <td>16</td>\n",
       "      <td>apr</td>\n",
       "      <td>185</td>\n",
       "      <td>1</td>\n",
       "      <td>330</td>\n",
       "      <td>1</td>\n",
       "      <td>failure</td>\n",
       "      <td>no</td>\n",
       "    </tr>\n",
       "    <tr>\n",
       "      <th>3</th>\n",
       "      <td>30</td>\n",
       "      <td>management</td>\n",
       "      <td>married</td>\n",
       "      <td>tertiary</td>\n",
       "      <td>no</td>\n",
       "      <td>1476</td>\n",
       "      <td>yes</td>\n",
       "      <td>yes</td>\n",
       "      <td>3</td>\n",
       "      <td>jun</td>\n",
       "      <td>199</td>\n",
       "      <td>4</td>\n",
       "      <td>-1</td>\n",
       "      <td>0</td>\n",
       "      <td>unknown</td>\n",
       "      <td>no</td>\n",
       "    </tr>\n",
       "    <tr>\n",
       "      <th>4</th>\n",
       "      <td>59</td>\n",
       "      <td>blue-collar</td>\n",
       "      <td>married</td>\n",
       "      <td>secondary</td>\n",
       "      <td>no</td>\n",
       "      <td>0</td>\n",
       "      <td>yes</td>\n",
       "      <td>no</td>\n",
       "      <td>5</td>\n",
       "      <td>may</td>\n",
       "      <td>226</td>\n",
       "      <td>1</td>\n",
       "      <td>-1</td>\n",
       "      <td>0</td>\n",
       "      <td>unknown</td>\n",
       "      <td>no</td>\n",
       "    </tr>\n",
       "  </tbody>\n",
       "</table>\n",
       "</div>"
      ],
      "text/plain": [
       "   age          job  marital  education default  balance housing loan  day  \\\n",
       "0   30   unemployed  married    primary      no     1787      no   no   19   \n",
       "1   33     services  married  secondary      no     4789     yes  yes   11   \n",
       "2   35   management   single   tertiary      no     1350     yes   no   16   \n",
       "3   30   management  married   tertiary      no     1476     yes  yes    3   \n",
       "4   59  blue-collar  married  secondary      no        0     yes   no    5   \n",
       "\n",
       "  month  duration  campaign  pdays  previous poutcome   y  \n",
       "0   oct        79         1     -1         0  unknown  no  \n",
       "1   may       220         1    339         4  failure  no  \n",
       "2   apr       185         1    330         1  failure  no  \n",
       "3   jun       199         4     -1         0  unknown  no  \n",
       "4   may       226         1     -1         0  unknown  no  "
      ]
     },
     "execution_count": 58,
     "metadata": {},
     "output_type": "execute_result"
    }
   ],
   "source": [
    "# ~30% of values are unknown, best to drop\n",
    "df.drop(['contact'], axis=1, inplace=True)\n",
    "df.head()"
   ]
  },
  {
   "cell_type": "code",
   "execution_count": 59,
   "id": "88ee1d49",
   "metadata": {
    "colab": {
     "base_uri": "https://localhost:8080/"
    },
    "id": "88ee1d49",
    "outputId": "7023f3eb-b90d-4c3f-b127-d08b06dc51f0"
   },
   "outputs": [
    {
     "data": {
      "text/plain": [
       "y    pdays\n",
       "no   -1       3211\n",
       "      2          6\n",
       "      3          1\n",
       "      5          1\n",
       "      7          3\n",
       "              ... \n",
       "yes   461        2\n",
       "      474        2\n",
       "      541        1\n",
       "      761        1\n",
       "      804        1\n",
       "Length: 361, dtype: int64"
      ]
     },
     "execution_count": 59,
     "metadata": {},
     "output_type": "execute_result"
    }
   ],
   "source": [
    "# Seeing distribution of pdays\n",
    "df.groupby(['y', 'pdays']).size()"
   ]
  },
  {
   "cell_type": "code",
   "execution_count": 60,
   "id": "0217eb1d",
   "metadata": {
    "colab": {
     "base_uri": "https://localhost:8080/",
     "height": 270
    },
    "id": "0217eb1d",
    "outputId": "1d2d0823-5f72-4b55-ea81-f65c8ba71846"
   },
   "outputs": [
    {
     "data": {
      "text/html": [
       "<div>\n",
       "<style scoped>\n",
       "    .dataframe tbody tr th:only-of-type {\n",
       "        vertical-align: middle;\n",
       "    }\n",
       "\n",
       "    .dataframe tbody tr th {\n",
       "        vertical-align: top;\n",
       "    }\n",
       "\n",
       "    .dataframe thead th {\n",
       "        text-align: right;\n",
       "    }\n",
       "</style>\n",
       "<table border=\"1\" class=\"dataframe\">\n",
       "  <thead>\n",
       "    <tr style=\"text-align: right;\">\n",
       "      <th></th>\n",
       "      <th>age</th>\n",
       "      <th>job</th>\n",
       "      <th>marital</th>\n",
       "      <th>education</th>\n",
       "      <th>default</th>\n",
       "      <th>balance</th>\n",
       "      <th>housing</th>\n",
       "      <th>loan</th>\n",
       "      <th>day</th>\n",
       "      <th>month</th>\n",
       "      <th>duration</th>\n",
       "      <th>campaign</th>\n",
       "      <th>previous</th>\n",
       "      <th>poutcome</th>\n",
       "      <th>y</th>\n",
       "    </tr>\n",
       "  </thead>\n",
       "  <tbody>\n",
       "    <tr>\n",
       "      <th>0</th>\n",
       "      <td>30</td>\n",
       "      <td>unemployed</td>\n",
       "      <td>married</td>\n",
       "      <td>primary</td>\n",
       "      <td>no</td>\n",
       "      <td>1787</td>\n",
       "      <td>no</td>\n",
       "      <td>no</td>\n",
       "      <td>19</td>\n",
       "      <td>oct</td>\n",
       "      <td>79</td>\n",
       "      <td>1</td>\n",
       "      <td>0</td>\n",
       "      <td>unknown</td>\n",
       "      <td>no</td>\n",
       "    </tr>\n",
       "    <tr>\n",
       "      <th>1</th>\n",
       "      <td>33</td>\n",
       "      <td>services</td>\n",
       "      <td>married</td>\n",
       "      <td>secondary</td>\n",
       "      <td>no</td>\n",
       "      <td>4789</td>\n",
       "      <td>yes</td>\n",
       "      <td>yes</td>\n",
       "      <td>11</td>\n",
       "      <td>may</td>\n",
       "      <td>220</td>\n",
       "      <td>1</td>\n",
       "      <td>4</td>\n",
       "      <td>failure</td>\n",
       "      <td>no</td>\n",
       "    </tr>\n",
       "    <tr>\n",
       "      <th>2</th>\n",
       "      <td>35</td>\n",
       "      <td>management</td>\n",
       "      <td>single</td>\n",
       "      <td>tertiary</td>\n",
       "      <td>no</td>\n",
       "      <td>1350</td>\n",
       "      <td>yes</td>\n",
       "      <td>no</td>\n",
       "      <td>16</td>\n",
       "      <td>apr</td>\n",
       "      <td>185</td>\n",
       "      <td>1</td>\n",
       "      <td>1</td>\n",
       "      <td>failure</td>\n",
       "      <td>no</td>\n",
       "    </tr>\n",
       "    <tr>\n",
       "      <th>3</th>\n",
       "      <td>30</td>\n",
       "      <td>management</td>\n",
       "      <td>married</td>\n",
       "      <td>tertiary</td>\n",
       "      <td>no</td>\n",
       "      <td>1476</td>\n",
       "      <td>yes</td>\n",
       "      <td>yes</td>\n",
       "      <td>3</td>\n",
       "      <td>jun</td>\n",
       "      <td>199</td>\n",
       "      <td>4</td>\n",
       "      <td>0</td>\n",
       "      <td>unknown</td>\n",
       "      <td>no</td>\n",
       "    </tr>\n",
       "    <tr>\n",
       "      <th>4</th>\n",
       "      <td>59</td>\n",
       "      <td>blue-collar</td>\n",
       "      <td>married</td>\n",
       "      <td>secondary</td>\n",
       "      <td>no</td>\n",
       "      <td>0</td>\n",
       "      <td>yes</td>\n",
       "      <td>no</td>\n",
       "      <td>5</td>\n",
       "      <td>may</td>\n",
       "      <td>226</td>\n",
       "      <td>1</td>\n",
       "      <td>0</td>\n",
       "      <td>unknown</td>\n",
       "      <td>no</td>\n",
       "    </tr>\n",
       "  </tbody>\n",
       "</table>\n",
       "</div>"
      ],
      "text/plain": [
       "   age          job  marital  education default  balance housing loan  day  \\\n",
       "0   30   unemployed  married    primary      no     1787      no   no   19   \n",
       "1   33     services  married  secondary      no     4789     yes  yes   11   \n",
       "2   35   management   single   tertiary      no     1350     yes   no   16   \n",
       "3   30   management  married   tertiary      no     1476     yes  yes    3   \n",
       "4   59  blue-collar  married  secondary      no        0     yes   no    5   \n",
       "\n",
       "  month  duration  campaign  previous poutcome   y  \n",
       "0   oct        79         1         0  unknown  no  \n",
       "1   may       220         1         4  failure  no  \n",
       "2   apr       185         1         1  failure  no  \n",
       "3   jun       199         4         0  unknown  no  \n",
       "4   may       226         1         0  unknown  no  "
      ]
     },
     "execution_count": 60,
     "metadata": {},
     "output_type": "execute_result"
    }
   ],
   "source": [
    "# ~75% of values are -1, best to drop\n",
    "df.drop(['pdays'], axis=1, inplace=True)\n",
    "df.head()"
   ]
  },
  {
   "cell_type": "code",
   "execution_count": 61,
   "id": "d2e24e7c",
   "metadata": {
    "colab": {
     "base_uri": "https://localhost:8080/"
    },
    "id": "d2e24e7c",
    "outputId": "6c0c62c8-2091-4011-b1a4-b3a323580516"
   },
   "outputs": [
    {
     "data": {
      "text/plain": [
       "y    poutcome\n",
       "no   failure      409\n",
       "     other        151\n",
       "     success       42\n",
       "     unknown     3211\n",
       "yes  failure       61\n",
       "     other         37\n",
       "     success       75\n",
       "     unknown      325\n",
       "dtype: int64"
      ]
     },
     "execution_count": 61,
     "metadata": {},
     "output_type": "execute_result"
    }
   ],
   "source": [
    "# Seeing distribution of unknown poutcomes\n",
    "df.groupby(['y', 'poutcome']).size()"
   ]
  },
  {
   "cell_type": "code",
   "execution_count": 62,
   "id": "ced6fc6c",
   "metadata": {
    "colab": {
     "base_uri": "https://localhost:8080/",
     "height": 206
    },
    "id": "ced6fc6c",
    "outputId": "75c8f162-937a-42e0-e9df-f487a558c46b"
   },
   "outputs": [
    {
     "data": {
      "text/html": [
       "<div>\n",
       "<style scoped>\n",
       "    .dataframe tbody tr th:only-of-type {\n",
       "        vertical-align: middle;\n",
       "    }\n",
       "\n",
       "    .dataframe tbody tr th {\n",
       "        vertical-align: top;\n",
       "    }\n",
       "\n",
       "    .dataframe thead th {\n",
       "        text-align: right;\n",
       "    }\n",
       "</style>\n",
       "<table border=\"1\" class=\"dataframe\">\n",
       "  <thead>\n",
       "    <tr style=\"text-align: right;\">\n",
       "      <th></th>\n",
       "      <th>age</th>\n",
       "      <th>job</th>\n",
       "      <th>marital</th>\n",
       "      <th>education</th>\n",
       "      <th>default</th>\n",
       "      <th>balance</th>\n",
       "      <th>housing</th>\n",
       "      <th>loan</th>\n",
       "      <th>day</th>\n",
       "      <th>month</th>\n",
       "      <th>duration</th>\n",
       "      <th>campaign</th>\n",
       "      <th>previous</th>\n",
       "      <th>y</th>\n",
       "    </tr>\n",
       "  </thead>\n",
       "  <tbody>\n",
       "    <tr>\n",
       "      <th>0</th>\n",
       "      <td>30</td>\n",
       "      <td>unemployed</td>\n",
       "      <td>married</td>\n",
       "      <td>primary</td>\n",
       "      <td>no</td>\n",
       "      <td>1787</td>\n",
       "      <td>no</td>\n",
       "      <td>no</td>\n",
       "      <td>19</td>\n",
       "      <td>oct</td>\n",
       "      <td>79</td>\n",
       "      <td>1</td>\n",
       "      <td>0</td>\n",
       "      <td>no</td>\n",
       "    </tr>\n",
       "    <tr>\n",
       "      <th>1</th>\n",
       "      <td>33</td>\n",
       "      <td>services</td>\n",
       "      <td>married</td>\n",
       "      <td>secondary</td>\n",
       "      <td>no</td>\n",
       "      <td>4789</td>\n",
       "      <td>yes</td>\n",
       "      <td>yes</td>\n",
       "      <td>11</td>\n",
       "      <td>may</td>\n",
       "      <td>220</td>\n",
       "      <td>1</td>\n",
       "      <td>4</td>\n",
       "      <td>no</td>\n",
       "    </tr>\n",
       "    <tr>\n",
       "      <th>2</th>\n",
       "      <td>35</td>\n",
       "      <td>management</td>\n",
       "      <td>single</td>\n",
       "      <td>tertiary</td>\n",
       "      <td>no</td>\n",
       "      <td>1350</td>\n",
       "      <td>yes</td>\n",
       "      <td>no</td>\n",
       "      <td>16</td>\n",
       "      <td>apr</td>\n",
       "      <td>185</td>\n",
       "      <td>1</td>\n",
       "      <td>1</td>\n",
       "      <td>no</td>\n",
       "    </tr>\n",
       "    <tr>\n",
       "      <th>3</th>\n",
       "      <td>30</td>\n",
       "      <td>management</td>\n",
       "      <td>married</td>\n",
       "      <td>tertiary</td>\n",
       "      <td>no</td>\n",
       "      <td>1476</td>\n",
       "      <td>yes</td>\n",
       "      <td>yes</td>\n",
       "      <td>3</td>\n",
       "      <td>jun</td>\n",
       "      <td>199</td>\n",
       "      <td>4</td>\n",
       "      <td>0</td>\n",
       "      <td>no</td>\n",
       "    </tr>\n",
       "    <tr>\n",
       "      <th>4</th>\n",
       "      <td>59</td>\n",
       "      <td>blue-collar</td>\n",
       "      <td>married</td>\n",
       "      <td>secondary</td>\n",
       "      <td>no</td>\n",
       "      <td>0</td>\n",
       "      <td>yes</td>\n",
       "      <td>no</td>\n",
       "      <td>5</td>\n",
       "      <td>may</td>\n",
       "      <td>226</td>\n",
       "      <td>1</td>\n",
       "      <td>0</td>\n",
       "      <td>no</td>\n",
       "    </tr>\n",
       "  </tbody>\n",
       "</table>\n",
       "</div>"
      ],
      "text/plain": [
       "   age          job  marital  education default  balance housing loan  day  \\\n",
       "0   30   unemployed  married    primary      no     1787      no   no   19   \n",
       "1   33     services  married  secondary      no     4789     yes  yes   11   \n",
       "2   35   management   single   tertiary      no     1350     yes   no   16   \n",
       "3   30   management  married   tertiary      no     1476     yes  yes    3   \n",
       "4   59  blue-collar  married  secondary      no        0     yes   no    5   \n",
       "\n",
       "  month  duration  campaign  previous   y  \n",
       "0   oct        79         1         0  no  \n",
       "1   may       220         1         4  no  \n",
       "2   apr       185         1         1  no  \n",
       "3   jun       199         4         0  no  \n",
       "4   may       226         1         0  no  "
      ]
     },
     "execution_count": 62,
     "metadata": {},
     "output_type": "execute_result"
    }
   ],
   "source": [
    "# ~75% of values are unknown, best to drop\n",
    "df.drop(['poutcome'], axis=1, inplace=True)\n",
    "df.head()"
   ]
  },
  {
   "cell_type": "code",
   "execution_count": 63,
   "id": "mTSegy6ZCDP4",
   "metadata": {
    "colab": {
     "base_uri": "https://localhost:8080/",
     "height": 354
    },
    "id": "mTSegy6ZCDP4",
    "outputId": "7cb538a3-0331-4ce2-f8e4-823e81a31699"
   },
   "outputs": [
    {
     "name": "stderr",
     "output_type": "stream",
     "text": [
      "/Users/edward/opt/anaconda3/lib/python3.8/site-packages/seaborn/_decorators.py:36: FutureWarning: Pass the following variable as a keyword arg: x. From version 0.12, the only valid positional argument will be `data`, and passing other arguments without an explicit keyword will result in an error or misinterpretation.\n",
      "  warnings.warn(\n"
     ]
    },
    {
     "data": {
      "text/plain": [
       "<AxesSubplot:xlabel='age'>"
      ]
     },
     "execution_count": 63,
     "metadata": {},
     "output_type": "execute_result"
    },
    {
     "data": {
      "image/png": "[encoded data removed]",
      "text/plain": [
       "<Figure size 432x288 with 1 Axes>"
      ]
     },
     "metadata": {
      "needs_background": "light"
     },
     "output_type": "display_data"
    }
   ],
   "source": [
    "# Plot to view if any outliers for age\n",
    "sns.boxplot(df['age'])"
   ]
  },
  {
   "cell_type": "code",
   "execution_count": 64,
   "id": "rFs7UtGdC8l7",
   "metadata": {
    "colab": {
     "base_uri": "https://localhost:8080/"
    },
    "id": "rFs7UtGdC8l7",
    "outputId": "fb4beaab-96ef-4f20-d3e7-78426c478373"
   },
   "outputs": [
    {
     "data": {
      "text/plain": [
       "age\n",
       "19     2\n",
       "20     3\n",
       "21     6\n",
       "22     7\n",
       "23    19\n",
       "      ..\n",
       "81     1\n",
       "83     4\n",
       "84     1\n",
       "86     1\n",
       "87     1\n",
       "Name: age, Length: 67, dtype: int64"
      ]
     },
     "execution_count": 64,
     "metadata": {},
     "output_type": "execute_result"
    }
   ],
   "source": [
    "# View if any outliers in age\n",
    "df.groupby('age', sort=True)['age'].count()"
   ]
  },
  {
   "cell_type": "code",
   "execution_count": 65,
   "id": "xn_EMLsvHMIy",
   "metadata": {
    "colab": {
     "base_uri": "https://localhost:8080/",
     "height": 354
    },
    "id": "xn_EMLsvHMIy",
    "outputId": "91f09948-fce4-4a42-cb9b-b653872d5499"
   },
   "outputs": [
    {
     "name": "stderr",
     "output_type": "stream",
     "text": [
      "/Users/edward/opt/anaconda3/lib/python3.8/site-packages/seaborn/_decorators.py:36: FutureWarning: Pass the following variable as a keyword arg: x. From version 0.12, the only valid positional argument will be `data`, and passing other arguments without an explicit keyword will result in an error or misinterpretation.\n",
      "  warnings.warn(\n"
     ]
    },
    {
     "data": {
      "text/plain": [
       "<AxesSubplot:xlabel='campaign'>"
      ]
     },
     "execution_count": 65,
     "metadata": {},
     "output_type": "execute_result"
    },
    {
     "data": {
      "image/png": "[encoded data removed]",
      "text/plain": [
       "<Figure size 432x288 with 1 Axes>"
      ]
     },
     "metadata": {
      "needs_background": "light"
     },
     "output_type": "display_data"
    }
   ],
   "source": [
    "# Plot to view if any outliers for campaign\n",
    "sns.boxplot(df['campaign'])"
   ]
  },
  {
   "cell_type": "code",
   "execution_count": 66,
   "id": "XafaaLD-DFtx",
   "metadata": {
    "colab": {
     "base_uri": "https://localhost:8080/"
    },
    "id": "XafaaLD-DFtx",
    "outputId": "6ae6ac16-1090-4073-943f-00fe0f9be97d"
   },
   "outputs": [
    {
     "data": {
      "text/plain": [
       "campaign\n",
       "1     1640\n",
       "2     1209\n",
       "3      535\n",
       "4      317\n",
       "5      161\n",
       "6      147\n",
       "7       69\n",
       "8       53\n",
       "9       28\n",
       "10      27\n",
       "11      20\n",
       "12      20\n",
       "13      17\n",
       "14      10\n",
       "15       9\n",
       "16       8\n",
       "17       6\n",
       "18       6\n",
       "19       3\n",
       "20       3\n",
       "21       2\n",
       "22       2\n",
       "23       2\n",
       "24       3\n",
       "25       4\n",
       "28       3\n",
       "29       1\n",
       "30       1\n",
       "31       1\n",
       "32       2\n",
       "44       1\n",
       "50       1\n",
       "Name: campaign, dtype: int64"
      ]
     },
     "execution_count": 66,
     "metadata": {},
     "output_type": "execute_result"
    }
   ],
   "source": [
    "# View if any outliers in campaign\n",
    "df.groupby('campaign', sort=True)['campaign'].count()"
   ]
  },
  {
   "cell_type": "code",
   "execution_count": 67,
   "id": "5uVOzkLiDpZK",
   "metadata": {
    "id": "5uVOzkLiDpZK"
   },
   "outputs": [],
   "source": [
    "# Remove outliers in campaign\n",
    "df = df[df['campaign'] < 33]"
   ]
  },
  {
   "cell_type": "code",
   "execution_count": 68,
   "id": "__-v9O06HMj6",
   "metadata": {
    "colab": {
     "base_uri": "https://localhost:8080/",
     "height": 354
    },
    "id": "__-v9O06HMj6",
    "outputId": "aaab6855-dfe2-4cd8-c941-7dab7711be76"
   },
   "outputs": [
    {
     "name": "stderr",
     "output_type": "stream",
     "text": [
      "/Users/edward/opt/anaconda3/lib/python3.8/site-packages/seaborn/_decorators.py:36: FutureWarning: Pass the following variable as a keyword arg: x. From version 0.12, the only valid positional argument will be `data`, and passing other arguments without an explicit keyword will result in an error or misinterpretation.\n",
      "  warnings.warn(\n"
     ]
    },
    {
     "data": {
      "text/plain": [
       "<AxesSubplot:xlabel='previous'>"
      ]
     },
     "execution_count": 68,
     "metadata": {},
     "output_type": "execute_result"
    },
    {
     "data": {
      "image/png": "[encoded data removed]",
      "text/plain": [
       "<Figure size 432x288 with 1 Axes>"
      ]
     },
     "metadata": {
      "needs_background": "light"
     },
     "output_type": "display_data"
    }
   ],
   "source": [
    "# Plot to view if any outliers for previous\n",
    "sns.boxplot(df['previous'])"
   ]
  },
  {
   "cell_type": "code",
   "execution_count": 69,
   "id": "vDzHoRTbD2eQ",
   "metadata": {
    "colab": {
     "base_uri": "https://localhost:8080/"
    },
    "id": "vDzHoRTbD2eQ",
    "outputId": "a3b67531-4d75-474f-a482-1f0fbdfe5682"
   },
   "outputs": [
    {
     "data": {
      "text/plain": [
       "previous\n",
       "0     3534\n",
       "1      272\n",
       "2      178\n",
       "3      107\n",
       "4       76\n",
       "5       47\n",
       "6       24\n",
       "7       21\n",
       "8       17\n",
       "9       10\n",
       "10       4\n",
       "11       3\n",
       "12       5\n",
       "14       2\n",
       "15       1\n",
       "17       1\n",
       "18       1\n",
       "19       1\n",
       "20       1\n",
       "22       1\n",
       "23       1\n",
       "24       1\n",
       "25       1\n",
       "Name: previous, dtype: int64"
      ]
     },
     "execution_count": 69,
     "metadata": {},
     "output_type": "execute_result"
    }
   ],
   "source": [
    "# View if any outliers in previous\n",
    "df.groupby('previous', sort=True)['previous'].count()"
   ]
  },
  {
   "cell_type": "code",
   "execution_count": 70,
   "id": "06c0a68e",
   "metadata": {
    "colab": {
     "base_uri": "https://localhost:8080/",
     "height": 206
    },
    "id": "06c0a68e",
    "outputId": "580e967a-da81-47e4-e07b-deb9edafc5c8"
   },
   "outputs": [
    {
     "data": {
      "text/html": [
       "<div>\n",
       "<style scoped>\n",
       "    .dataframe tbody tr th:only-of-type {\n",
       "        vertical-align: middle;\n",
       "    }\n",
       "\n",
       "    .dataframe tbody tr th {\n",
       "        vertical-align: top;\n",
       "    }\n",
       "\n",
       "    .dataframe thead th {\n",
       "        text-align: right;\n",
       "    }\n",
       "</style>\n",
       "<table border=\"1\" class=\"dataframe\">\n",
       "  <thead>\n",
       "    <tr style=\"text-align: right;\">\n",
       "      <th></th>\n",
       "      <th>age</th>\n",
       "      <th>job</th>\n",
       "      <th>marital</th>\n",
       "      <th>education</th>\n",
       "      <th>default</th>\n",
       "      <th>balance</th>\n",
       "      <th>housing</th>\n",
       "      <th>loan</th>\n",
       "      <th>day</th>\n",
       "      <th>month</th>\n",
       "      <th>duration</th>\n",
       "      <th>campaign</th>\n",
       "      <th>previous</th>\n",
       "      <th>y</th>\n",
       "    </tr>\n",
       "  </thead>\n",
       "  <tbody>\n",
       "    <tr>\n",
       "      <th>0</th>\n",
       "      <td>30</td>\n",
       "      <td>unemployed</td>\n",
       "      <td>married</td>\n",
       "      <td>primary</td>\n",
       "      <td>no</td>\n",
       "      <td>1787</td>\n",
       "      <td>no</td>\n",
       "      <td>no</td>\n",
       "      <td>19</td>\n",
       "      <td>10</td>\n",
       "      <td>79</td>\n",
       "      <td>1</td>\n",
       "      <td>0</td>\n",
       "      <td>no</td>\n",
       "    </tr>\n",
       "    <tr>\n",
       "      <th>1</th>\n",
       "      <td>33</td>\n",
       "      <td>services</td>\n",
       "      <td>married</td>\n",
       "      <td>secondary</td>\n",
       "      <td>no</td>\n",
       "      <td>4789</td>\n",
       "      <td>yes</td>\n",
       "      <td>yes</td>\n",
       "      <td>11</td>\n",
       "      <td>8</td>\n",
       "      <td>220</td>\n",
       "      <td>1</td>\n",
       "      <td>4</td>\n",
       "      <td>no</td>\n",
       "    </tr>\n",
       "    <tr>\n",
       "      <th>2</th>\n",
       "      <td>35</td>\n",
       "      <td>management</td>\n",
       "      <td>single</td>\n",
       "      <td>tertiary</td>\n",
       "      <td>no</td>\n",
       "      <td>1350</td>\n",
       "      <td>yes</td>\n",
       "      <td>no</td>\n",
       "      <td>16</td>\n",
       "      <td>0</td>\n",
       "      <td>185</td>\n",
       "      <td>1</td>\n",
       "      <td>1</td>\n",
       "      <td>no</td>\n",
       "    </tr>\n",
       "    <tr>\n",
       "      <th>3</th>\n",
       "      <td>30</td>\n",
       "      <td>management</td>\n",
       "      <td>married</td>\n",
       "      <td>tertiary</td>\n",
       "      <td>no</td>\n",
       "      <td>1476</td>\n",
       "      <td>yes</td>\n",
       "      <td>yes</td>\n",
       "      <td>3</td>\n",
       "      <td>6</td>\n",
       "      <td>199</td>\n",
       "      <td>4</td>\n",
       "      <td>0</td>\n",
       "      <td>no</td>\n",
       "    </tr>\n",
       "    <tr>\n",
       "      <th>4</th>\n",
       "      <td>59</td>\n",
       "      <td>blue-collar</td>\n",
       "      <td>married</td>\n",
       "      <td>secondary</td>\n",
       "      <td>no</td>\n",
       "      <td>0</td>\n",
       "      <td>yes</td>\n",
       "      <td>no</td>\n",
       "      <td>5</td>\n",
       "      <td>8</td>\n",
       "      <td>226</td>\n",
       "      <td>1</td>\n",
       "      <td>0</td>\n",
       "      <td>no</td>\n",
       "    </tr>\n",
       "  </tbody>\n",
       "</table>\n",
       "</div>"
      ],
      "text/plain": [
       "   age          job  marital  education default  balance housing loan  day  \\\n",
       "0   30   unemployed  married    primary      no     1787      no   no   19   \n",
       "1   33     services  married  secondary      no     4789     yes  yes   11   \n",
       "2   35   management   single   tertiary      no     1350     yes   no   16   \n",
       "3   30   management  married   tertiary      no     1476     yes  yes    3   \n",
       "4   59  blue-collar  married  secondary      no        0     yes   no    5   \n",
       "\n",
       "   month  duration  campaign  previous   y  \n",
       "0     10        79         1         0  no  \n",
       "1      8       220         1         4  no  \n",
       "2      0       185         1         1  no  \n",
       "3      6       199         4         0  no  \n",
       "4      8       226         1         0  no  "
      ]
     },
     "execution_count": 70,
     "metadata": {},
     "output_type": "execute_result"
    }
   ],
   "source": [
    "# Converting categorical variables to numerical\n",
    "# Label Encoder used for Month (as numbers might have significance, e.g. later in the year is better)\n",
    "# One Hot Encoding used for the other categorical variables to avoid significance associated with higher values\n",
    "le = LabelEncoder()\n",
    "df['month'] = le.fit_transform(df['month'])\n",
    "\n",
    "df.head()"
   ]
  },
  {
   "cell_type": "code",
   "execution_count": 71,
   "id": "daba174c",
   "metadata": {
    "colab": {
     "base_uri": "https://localhost:8080/",
     "height": 206
    },
    "id": "daba174c",
    "outputId": "fd2c3e2b-6caa-4d4d-8fa3-fea80bd678cd"
   },
   "outputs": [
    {
     "data": {
      "text/html": [
       "<div>\n",
       "<style scoped>\n",
       "    .dataframe tbody tr th:only-of-type {\n",
       "        vertical-align: middle;\n",
       "    }\n",
       "\n",
       "    .dataframe tbody tr th {\n",
       "        vertical-align: top;\n",
       "    }\n",
       "\n",
       "    .dataframe thead th {\n",
       "        text-align: right;\n",
       "    }\n",
       "</style>\n",
       "<table border=\"1\" class=\"dataframe\">\n",
       "  <thead>\n",
       "    <tr style=\"text-align: right;\">\n",
       "      <th></th>\n",
       "      <th>age</th>\n",
       "      <th>job</th>\n",
       "      <th>marital</th>\n",
       "      <th>education</th>\n",
       "      <th>default</th>\n",
       "      <th>balance</th>\n",
       "      <th>housing</th>\n",
       "      <th>loan</th>\n",
       "      <th>day</th>\n",
       "      <th>month</th>\n",
       "      <th>duration</th>\n",
       "      <th>campaign</th>\n",
       "      <th>previous</th>\n",
       "      <th>y</th>\n",
       "    </tr>\n",
       "  </thead>\n",
       "  <tbody>\n",
       "    <tr>\n",
       "      <th>0</th>\n",
       "      <td>30</td>\n",
       "      <td>unemployed</td>\n",
       "      <td>married</td>\n",
       "      <td>primary</td>\n",
       "      <td>0</td>\n",
       "      <td>1787</td>\n",
       "      <td>0</td>\n",
       "      <td>0</td>\n",
       "      <td>19</td>\n",
       "      <td>10</td>\n",
       "      <td>79</td>\n",
       "      <td>1</td>\n",
       "      <td>0</td>\n",
       "      <td>0</td>\n",
       "    </tr>\n",
       "    <tr>\n",
       "      <th>1</th>\n",
       "      <td>33</td>\n",
       "      <td>services</td>\n",
       "      <td>married</td>\n",
       "      <td>secondary</td>\n",
       "      <td>0</td>\n",
       "      <td>4789</td>\n",
       "      <td>1</td>\n",
       "      <td>1</td>\n",
       "      <td>11</td>\n",
       "      <td>8</td>\n",
       "      <td>220</td>\n",
       "      <td>1</td>\n",
       "      <td>4</td>\n",
       "      <td>0</td>\n",
       "    </tr>\n",
       "    <tr>\n",
       "      <th>2</th>\n",
       "      <td>35</td>\n",
       "      <td>management</td>\n",
       "      <td>single</td>\n",
       "      <td>tertiary</td>\n",
       "      <td>0</td>\n",
       "      <td>1350</td>\n",
       "      <td>1</td>\n",
       "      <td>0</td>\n",
       "      <td>16</td>\n",
       "      <td>0</td>\n",
       "      <td>185</td>\n",
       "      <td>1</td>\n",
       "      <td>1</td>\n",
       "      <td>0</td>\n",
       "    </tr>\n",
       "    <tr>\n",
       "      <th>3</th>\n",
       "      <td>30</td>\n",
       "      <td>management</td>\n",
       "      <td>married</td>\n",
       "      <td>tertiary</td>\n",
       "      <td>0</td>\n",
       "      <td>1476</td>\n",
       "      <td>1</td>\n",
       "      <td>1</td>\n",
       "      <td>3</td>\n",
       "      <td>6</td>\n",
       "      <td>199</td>\n",
       "      <td>4</td>\n",
       "      <td>0</td>\n",
       "      <td>0</td>\n",
       "    </tr>\n",
       "    <tr>\n",
       "      <th>4</th>\n",
       "      <td>59</td>\n",
       "      <td>blue-collar</td>\n",
       "      <td>married</td>\n",
       "      <td>secondary</td>\n",
       "      <td>0</td>\n",
       "      <td>0</td>\n",
       "      <td>1</td>\n",
       "      <td>0</td>\n",
       "      <td>5</td>\n",
       "      <td>8</td>\n",
       "      <td>226</td>\n",
       "      <td>1</td>\n",
       "      <td>0</td>\n",
       "      <td>0</td>\n",
       "    </tr>\n",
       "  </tbody>\n",
       "</table>\n",
       "</div>"
      ],
      "text/plain": [
       "   age          job  marital  education  default  balance  housing  loan  day  \\\n",
       "0   30   unemployed  married    primary        0     1787        0     0   19   \n",
       "1   33     services  married  secondary        0     4789        1     1   11   \n",
       "2   35   management   single   tertiary        0     1350        1     0   16   \n",
       "3   30   management  married   tertiary        0     1476        1     1    3   \n",
       "4   59  blue-collar  married  secondary        0        0        1     0    5   \n",
       "\n",
       "   month  duration  campaign  previous  y  \n",
       "0     10        79         1         0  0  \n",
       "1      8       220         1         4  0  \n",
       "2      0       185         1         1  0  \n",
       "3      6       199         4         0  0  \n",
       "4      8       226         1         0  0  "
      ]
     },
     "execution_count": 71,
     "metadata": {},
     "output_type": "execute_result"
    }
   ],
   "source": [
    "# Turning 'yes', 'no' into 1, 0\n",
    "col_yes = ['default', 'housing', 'loan', 'y']\n",
    "for col in col_yes:\n",
    "    df[col] = df[col].apply(lambda x: 1 if x == 'yes' else 0)\n",
    "df.head()"
   ]
  },
  {
   "cell_type": "code",
   "execution_count": 72,
   "id": "5751c699",
   "metadata": {
    "colab": {
     "base_uri": "https://localhost:8080/",
     "height": 396
    },
    "id": "5751c699",
    "outputId": "03936a55-872a-45a1-f4b0-e50273926722"
   },
   "outputs": [
    {
     "data": {
      "text/plain": [
       "<AxesSubplot:>"
      ]
     },
     "execution_count": 72,
     "metadata": {},
     "output_type": "execute_result"
    },
    {
     "data": {
      "image/png": "[encoded data removed]",
      "text/plain": [
       "<Figure size 1008x432 with 2 Axes>"
      ]
     },
     "metadata": {
      "needs_background": "light"
     },
     "output_type": "display_data"
    }
   ],
   "source": [
    "# Correlation matrix to see relationship between variables\n",
    "plt.figure(figsize=(14,6))\n",
    "sns.heatmap(df.corr(), annot=True)"
   ]
  },
  {
   "cell_type": "code",
   "execution_count": 73,
   "id": "4a651c03",
   "metadata": {
    "colab": {
     "base_uri": "https://localhost:8080/",
     "height": 206
    },
    "id": "4a651c03",
    "outputId": "6da9e155-ef55-41ed-8f29-f16ad788bdcd"
   },
   "outputs": [
    {
     "data": {
      "text/html": [
       "<div>\n",
       "<style scoped>\n",
       "    .dataframe tbody tr th:only-of-type {\n",
       "        vertical-align: middle;\n",
       "    }\n",
       "\n",
       "    .dataframe tbody tr th {\n",
       "        vertical-align: top;\n",
       "    }\n",
       "\n",
       "    .dataframe thead th {\n",
       "        text-align: right;\n",
       "    }\n",
       "</style>\n",
       "<table border=\"1\" class=\"dataframe\">\n",
       "  <thead>\n",
       "    <tr style=\"text-align: right;\">\n",
       "      <th></th>\n",
       "      <th>age</th>\n",
       "      <th>job</th>\n",
       "      <th>marital</th>\n",
       "      <th>education</th>\n",
       "      <th>default</th>\n",
       "      <th>balance</th>\n",
       "      <th>housing</th>\n",
       "      <th>loan</th>\n",
       "      <th>day</th>\n",
       "      <th>month</th>\n",
       "      <th>campaign</th>\n",
       "      <th>previous</th>\n",
       "      <th>y</th>\n",
       "    </tr>\n",
       "  </thead>\n",
       "  <tbody>\n",
       "    <tr>\n",
       "      <th>0</th>\n",
       "      <td>30</td>\n",
       "      <td>unemployed</td>\n",
       "      <td>married</td>\n",
       "      <td>primary</td>\n",
       "      <td>0</td>\n",
       "      <td>1787</td>\n",
       "      <td>0</td>\n",
       "      <td>0</td>\n",
       "      <td>19</td>\n",
       "      <td>10</td>\n",
       "      <td>1</td>\n",
       "      <td>0</td>\n",
       "      <td>0</td>\n",
       "    </tr>\n",
       "    <tr>\n",
       "      <th>1</th>\n",
       "      <td>33</td>\n",
       "      <td>services</td>\n",
       "      <td>married</td>\n",
       "      <td>secondary</td>\n",
       "      <td>0</td>\n",
       "      <td>4789</td>\n",
       "      <td>1</td>\n",
       "      <td>1</td>\n",
       "      <td>11</td>\n",
       "      <td>8</td>\n",
       "      <td>1</td>\n",
       "      <td>4</td>\n",
       "      <td>0</td>\n",
       "    </tr>\n",
       "    <tr>\n",
       "      <th>2</th>\n",
       "      <td>35</td>\n",
       "      <td>management</td>\n",
       "      <td>single</td>\n",
       "      <td>tertiary</td>\n",
       "      <td>0</td>\n",
       "      <td>1350</td>\n",
       "      <td>1</td>\n",
       "      <td>0</td>\n",
       "      <td>16</td>\n",
       "      <td>0</td>\n",
       "      <td>1</td>\n",
       "      <td>1</td>\n",
       "      <td>0</td>\n",
       "    </tr>\n",
       "    <tr>\n",
       "      <th>3</th>\n",
       "      <td>30</td>\n",
       "      <td>management</td>\n",
       "      <td>married</td>\n",
       "      <td>tertiary</td>\n",
       "      <td>0</td>\n",
       "      <td>1476</td>\n",
       "      <td>1</td>\n",
       "      <td>1</td>\n",
       "      <td>3</td>\n",
       "      <td>6</td>\n",
       "      <td>4</td>\n",
       "      <td>0</td>\n",
       "      <td>0</td>\n",
       "    </tr>\n",
       "    <tr>\n",
       "      <th>4</th>\n",
       "      <td>59</td>\n",
       "      <td>blue-collar</td>\n",
       "      <td>married</td>\n",
       "      <td>secondary</td>\n",
       "      <td>0</td>\n",
       "      <td>0</td>\n",
       "      <td>1</td>\n",
       "      <td>0</td>\n",
       "      <td>5</td>\n",
       "      <td>8</td>\n",
       "      <td>1</td>\n",
       "      <td>0</td>\n",
       "      <td>0</td>\n",
       "    </tr>\n",
       "  </tbody>\n",
       "</table>\n",
       "</div>"
      ],
      "text/plain": [
       "   age          job  marital  education  default  balance  housing  loan  day  \\\n",
       "0   30   unemployed  married    primary        0     1787        0     0   19   \n",
       "1   33     services  married  secondary        0     4789        1     1   11   \n",
       "2   35   management   single   tertiary        0     1350        1     0   16   \n",
       "3   30   management  married   tertiary        0     1476        1     1    3   \n",
       "4   59  blue-collar  married  secondary        0        0        1     0    5   \n",
       "\n",
       "   month  campaign  previous  y  \n",
       "0     10         1         0  0  \n",
       "1      8         1         4  0  \n",
       "2      0         1         1  0  \n",
       "3      6         4         0  0  \n",
       "4      8         1         0  0  "
      ]
     },
     "execution_count": 73,
     "metadata": {},
     "output_type": "execute_result"
    }
   ],
   "source": [
    "# High duration correlation sticks out\n",
    "# The duration of the call isn't known before the call happens, so isn't relavant\n",
    "# for a model trying to predict the success of a call before it happens\n",
    "df.drop(['duration'], axis=1, inplace=True)\n",
    "df.head()"
   ]
  },
  {
   "cell_type": "code",
   "execution_count": 74,
   "id": "554b4f76",
   "metadata": {
    "colab": {
     "base_uri": "https://localhost:8080/",
     "height": 300
    },
    "id": "554b4f76",
    "outputId": "69af42cb-1c92-4e03-85a3-0c9906d081d9"
   },
   "outputs": [
    {
     "data": {
      "text/html": [
       "<div>\n",
       "<style scoped>\n",
       "    .dataframe tbody tr th:only-of-type {\n",
       "        vertical-align: middle;\n",
       "    }\n",
       "\n",
       "    .dataframe tbody tr th {\n",
       "        vertical-align: top;\n",
       "    }\n",
       "\n",
       "    .dataframe thead th {\n",
       "        text-align: right;\n",
       "    }\n",
       "</style>\n",
       "<table border=\"1\" class=\"dataframe\">\n",
       "  <thead>\n",
       "    <tr style=\"text-align: right;\">\n",
       "      <th></th>\n",
       "      <th>age</th>\n",
       "      <th>default</th>\n",
       "      <th>balance</th>\n",
       "      <th>housing</th>\n",
       "      <th>loan</th>\n",
       "      <th>day</th>\n",
       "      <th>month</th>\n",
       "      <th>campaign</th>\n",
       "      <th>previous</th>\n",
       "      <th>y</th>\n",
       "      <th>...</th>\n",
       "      <th>job_services</th>\n",
       "      <th>job_student</th>\n",
       "      <th>job_technician</th>\n",
       "      <th>job_unemployed</th>\n",
       "      <th>marital_divorced</th>\n",
       "      <th>marital_married</th>\n",
       "      <th>marital_single</th>\n",
       "      <th>education_primary</th>\n",
       "      <th>education_secondary</th>\n",
       "      <th>education_tertiary</th>\n",
       "    </tr>\n",
       "  </thead>\n",
       "  <tbody>\n",
       "    <tr>\n",
       "      <th>0</th>\n",
       "      <td>30</td>\n",
       "      <td>0</td>\n",
       "      <td>1787</td>\n",
       "      <td>0</td>\n",
       "      <td>0</td>\n",
       "      <td>19</td>\n",
       "      <td>10</td>\n",
       "      <td>1</td>\n",
       "      <td>0</td>\n",
       "      <td>0</td>\n",
       "      <td>...</td>\n",
       "      <td>0</td>\n",
       "      <td>0</td>\n",
       "      <td>0</td>\n",
       "      <td>1</td>\n",
       "      <td>0</td>\n",
       "      <td>1</td>\n",
       "      <td>0</td>\n",
       "      <td>1</td>\n",
       "      <td>0</td>\n",
       "      <td>0</td>\n",
       "    </tr>\n",
       "    <tr>\n",
       "      <th>1</th>\n",
       "      <td>33</td>\n",
       "      <td>0</td>\n",
       "      <td>4789</td>\n",
       "      <td>1</td>\n",
       "      <td>1</td>\n",
       "      <td>11</td>\n",
       "      <td>8</td>\n",
       "      <td>1</td>\n",
       "      <td>4</td>\n",
       "      <td>0</td>\n",
       "      <td>...</td>\n",
       "      <td>1</td>\n",
       "      <td>0</td>\n",
       "      <td>0</td>\n",
       "      <td>0</td>\n",
       "      <td>0</td>\n",
       "      <td>1</td>\n",
       "      <td>0</td>\n",
       "      <td>0</td>\n",
       "      <td>1</td>\n",
       "      <td>0</td>\n",
       "    </tr>\n",
       "    <tr>\n",
       "      <th>2</th>\n",
       "      <td>35</td>\n",
       "      <td>0</td>\n",
       "      <td>1350</td>\n",
       "      <td>1</td>\n",
       "      <td>0</td>\n",
       "      <td>16</td>\n",
       "      <td>0</td>\n",
       "      <td>1</td>\n",
       "      <td>1</td>\n",
       "      <td>0</td>\n",
       "      <td>...</td>\n",
       "      <td>0</td>\n",
       "      <td>0</td>\n",
       "      <td>0</td>\n",
       "      <td>0</td>\n",
       "      <td>0</td>\n",
       "      <td>0</td>\n",
       "      <td>1</td>\n",
       "      <td>0</td>\n",
       "      <td>0</td>\n",
       "      <td>1</td>\n",
       "    </tr>\n",
       "    <tr>\n",
       "      <th>3</th>\n",
       "      <td>30</td>\n",
       "      <td>0</td>\n",
       "      <td>1476</td>\n",
       "      <td>1</td>\n",
       "      <td>1</td>\n",
       "      <td>3</td>\n",
       "      <td>6</td>\n",
       "      <td>4</td>\n",
       "      <td>0</td>\n",
       "      <td>0</td>\n",
       "      <td>...</td>\n",
       "      <td>0</td>\n",
       "      <td>0</td>\n",
       "      <td>0</td>\n",
       "      <td>0</td>\n",
       "      <td>0</td>\n",
       "      <td>1</td>\n",
       "      <td>0</td>\n",
       "      <td>0</td>\n",
       "      <td>0</td>\n",
       "      <td>1</td>\n",
       "    </tr>\n",
       "    <tr>\n",
       "      <th>4</th>\n",
       "      <td>59</td>\n",
       "      <td>0</td>\n",
       "      <td>0</td>\n",
       "      <td>1</td>\n",
       "      <td>0</td>\n",
       "      <td>5</td>\n",
       "      <td>8</td>\n",
       "      <td>1</td>\n",
       "      <td>0</td>\n",
       "      <td>0</td>\n",
       "      <td>...</td>\n",
       "      <td>0</td>\n",
       "      <td>0</td>\n",
       "      <td>0</td>\n",
       "      <td>0</td>\n",
       "      <td>0</td>\n",
       "      <td>1</td>\n",
       "      <td>0</td>\n",
       "      <td>0</td>\n",
       "      <td>1</td>\n",
       "      <td>0</td>\n",
       "    </tr>\n",
       "  </tbody>\n",
       "</table>\n",
       "<p>5 rows × 27 columns</p>\n",
       "</div>"
      ],
      "text/plain": [
       "   age  default  balance  housing  loan  day  month  campaign  previous  y  \\\n",
       "0   30        0     1787        0     0   19     10         1         0  0   \n",
       "1   33        0     4789        1     1   11      8         1         4  0   \n",
       "2   35        0     1350        1     0   16      0         1         1  0   \n",
       "3   30        0     1476        1     1    3      6         4         0  0   \n",
       "4   59        0        0        1     0    5      8         1         0  0   \n",
       "\n",
       "   ...  job_services  job_student  job_technician  job_unemployed  \\\n",
       "0  ...             0            0               0               1   \n",
       "1  ...             1            0               0               0   \n",
       "2  ...             0            0               0               0   \n",
       "3  ...             0            0               0               0   \n",
       "4  ...             0            0               0               0   \n",
       "\n",
       "   marital_divorced  marital_married  marital_single  education_primary  \\\n",
       "0                 0                1               0                  1   \n",
       "1                 0                1               0                  0   \n",
       "2                 0                0               1                  0   \n",
       "3                 0                1               0                  0   \n",
       "4                 0                1               0                  0   \n",
       "\n",
       "   education_secondary  education_tertiary  \n",
       "0                    0                   0  \n",
       "1                    1                   0  \n",
       "2                    0                   1  \n",
       "3                    0                   1  \n",
       "4                    1                   0  \n",
       "\n",
       "[5 rows x 27 columns]"
      ]
     },
     "execution_count": 74,
     "metadata": {},
     "output_type": "execute_result"
    }
   ],
   "source": [
    "# Encoding\n",
    "col_cat = ['job', 'marital', 'education']\n",
    "for col in col_cat:\n",
    "    df = pd.concat([df.drop(col, axis=1),pd.get_dummies(df[col], prefix=col, prefix_sep='_', dummy_na=False, drop_first=False)], axis=1)\n",
    "\n",
    "df.head()"
   ]
  },
  {
   "cell_type": "code",
   "execution_count": 75,
   "id": "91b1d569",
   "metadata": {
    "colab": {
     "base_uri": "https://localhost:8080/"
    },
    "id": "91b1d569",
    "outputId": "645f6b31-8319-4551-e82d-728421e9010e"
   },
   "outputs": [
    {
     "name": "stdout",
     "output_type": "stream",
     "text": [
      "<class 'pandas.core.frame.DataFrame'>\n",
      "Int64Index: 4309 entries, 0 to 4520\n",
      "Data columns (total 27 columns):\n",
      " #   Column               Non-Null Count  Dtype\n",
      "---  ------               --------------  -----\n",
      " 0   age                  4309 non-null   int64\n",
      " 1   default              4309 non-null   int64\n",
      " 2   balance              4309 non-null   int64\n",
      " 3   housing              4309 non-null   int64\n",
      " 4   loan                 4309 non-null   int64\n",
      " 5   day                  4309 non-null   int64\n",
      " 6   month                4309 non-null   int64\n",
      " 7   campaign             4309 non-null   int64\n",
      " 8   previous             4309 non-null   int64\n",
      " 9   y                    4309 non-null   int64\n",
      " 10  job_admin.           4309 non-null   uint8\n",
      " 11  job_blue-collar      4309 non-null   uint8\n",
      " 12  job_entrepreneur     4309 non-null   uint8\n",
      " 13  job_housemaid        4309 non-null   uint8\n",
      " 14  job_management       4309 non-null   uint8\n",
      " 15  job_retired          4309 non-null   uint8\n",
      " 16  job_self-employed    4309 non-null   uint8\n",
      " 17  job_services         4309 non-null   uint8\n",
      " 18  job_student          4309 non-null   uint8\n",
      " 19  job_technician       4309 non-null   uint8\n",
      " 20  job_unemployed       4309 non-null   uint8\n",
      " 21  marital_divorced     4309 non-null   uint8\n",
      " 22  marital_married      4309 non-null   uint8\n",
      " 23  marital_single       4309 non-null   uint8\n",
      " 24  education_primary    4309 non-null   uint8\n",
      " 25  education_secondary  4309 non-null   uint8\n",
      " 26  education_tertiary   4309 non-null   uint8\n",
      "dtypes: int64(10), uint8(17)\n",
      "memory usage: 441.8 KB\n"
     ]
    }
   ],
   "source": [
    "df.info()"
   ]
  },
  {
   "cell_type": "code",
   "execution_count": 76,
   "id": "6f0f55be",
   "metadata": {
    "colab": {
     "base_uri": "https://localhost:8080/",
     "height": 300
    },
    "id": "6f0f55be",
    "outputId": "d3dafe9a-bcd7-4678-fffe-d45200fefb33"
   },
   "outputs": [
    {
     "data": {
      "text/html": [
       "<div>\n",
       "<style scoped>\n",
       "    .dataframe tbody tr th:only-of-type {\n",
       "        vertical-align: middle;\n",
       "    }\n",
       "\n",
       "    .dataframe tbody tr th {\n",
       "        vertical-align: top;\n",
       "    }\n",
       "\n",
       "    .dataframe thead th {\n",
       "        text-align: right;\n",
       "    }\n",
       "</style>\n",
       "<table border=\"1\" class=\"dataframe\">\n",
       "  <thead>\n",
       "    <tr style=\"text-align: right;\">\n",
       "      <th></th>\n",
       "      <th>age</th>\n",
       "      <th>default</th>\n",
       "      <th>balance</th>\n",
       "      <th>housing</th>\n",
       "      <th>loan</th>\n",
       "      <th>day</th>\n",
       "      <th>month</th>\n",
       "      <th>campaign</th>\n",
       "      <th>previous</th>\n",
       "      <th>job_admin.</th>\n",
       "      <th>...</th>\n",
       "      <th>job_student</th>\n",
       "      <th>job_technician</th>\n",
       "      <th>job_unemployed</th>\n",
       "      <th>marital_divorced</th>\n",
       "      <th>marital_married</th>\n",
       "      <th>marital_single</th>\n",
       "      <th>education_primary</th>\n",
       "      <th>education_secondary</th>\n",
       "      <th>education_tertiary</th>\n",
       "      <th>y</th>\n",
       "    </tr>\n",
       "  </thead>\n",
       "  <tbody>\n",
       "    <tr>\n",
       "      <th>0</th>\n",
       "      <td>30</td>\n",
       "      <td>0</td>\n",
       "      <td>1787</td>\n",
       "      <td>0</td>\n",
       "      <td>0</td>\n",
       "      <td>19</td>\n",
       "      <td>10</td>\n",
       "      <td>1</td>\n",
       "      <td>0</td>\n",
       "      <td>0</td>\n",
       "      <td>...</td>\n",
       "      <td>0</td>\n",
       "      <td>0</td>\n",
       "      <td>1</td>\n",
       "      <td>0</td>\n",
       "      <td>1</td>\n",
       "      <td>0</td>\n",
       "      <td>1</td>\n",
       "      <td>0</td>\n",
       "      <td>0</td>\n",
       "      <td>0</td>\n",
       "    </tr>\n",
       "    <tr>\n",
       "      <th>1</th>\n",
       "      <td>33</td>\n",
       "      <td>0</td>\n",
       "      <td>4789</td>\n",
       "      <td>1</td>\n",
       "      <td>1</td>\n",
       "      <td>11</td>\n",
       "      <td>8</td>\n",
       "      <td>1</td>\n",
       "      <td>4</td>\n",
       "      <td>0</td>\n",
       "      <td>...</td>\n",
       "      <td>0</td>\n",
       "      <td>0</td>\n",
       "      <td>0</td>\n",
       "      <td>0</td>\n",
       "      <td>1</td>\n",
       "      <td>0</td>\n",
       "      <td>0</td>\n",
       "      <td>1</td>\n",
       "      <td>0</td>\n",
       "      <td>0</td>\n",
       "    </tr>\n",
       "    <tr>\n",
       "      <th>2</th>\n",
       "      <td>35</td>\n",
       "      <td>0</td>\n",
       "      <td>1350</td>\n",
       "      <td>1</td>\n",
       "      <td>0</td>\n",
       "      <td>16</td>\n",
       "      <td>0</td>\n",
       "      <td>1</td>\n",
       "      <td>1</td>\n",
       "      <td>0</td>\n",
       "      <td>...</td>\n",
       "      <td>0</td>\n",
       "      <td>0</td>\n",
       "      <td>0</td>\n",
       "      <td>0</td>\n",
       "      <td>0</td>\n",
       "      <td>1</td>\n",
       "      <td>0</td>\n",
       "      <td>0</td>\n",
       "      <td>1</td>\n",
       "      <td>0</td>\n",
       "    </tr>\n",
       "    <tr>\n",
       "      <th>3</th>\n",
       "      <td>30</td>\n",
       "      <td>0</td>\n",
       "      <td>1476</td>\n",
       "      <td>1</td>\n",
       "      <td>1</td>\n",
       "      <td>3</td>\n",
       "      <td>6</td>\n",
       "      <td>4</td>\n",
       "      <td>0</td>\n",
       "      <td>0</td>\n",
       "      <td>...</td>\n",
       "      <td>0</td>\n",
       "      <td>0</td>\n",
       "      <td>0</td>\n",
       "      <td>0</td>\n",
       "      <td>1</td>\n",
       "      <td>0</td>\n",
       "      <td>0</td>\n",
       "      <td>0</td>\n",
       "      <td>1</td>\n",
       "      <td>0</td>\n",
       "    </tr>\n",
       "    <tr>\n",
       "      <th>4</th>\n",
       "      <td>59</td>\n",
       "      <td>0</td>\n",
       "      <td>0</td>\n",
       "      <td>1</td>\n",
       "      <td>0</td>\n",
       "      <td>5</td>\n",
       "      <td>8</td>\n",
       "      <td>1</td>\n",
       "      <td>0</td>\n",
       "      <td>0</td>\n",
       "      <td>...</td>\n",
       "      <td>0</td>\n",
       "      <td>0</td>\n",
       "      <td>0</td>\n",
       "      <td>0</td>\n",
       "      <td>1</td>\n",
       "      <td>0</td>\n",
       "      <td>0</td>\n",
       "      <td>1</td>\n",
       "      <td>0</td>\n",
       "      <td>0</td>\n",
       "    </tr>\n",
       "  </tbody>\n",
       "</table>\n",
       "<p>5 rows × 27 columns</p>\n",
       "</div>"
      ],
      "text/plain": [
       "   age  default  balance  housing  loan  day  month  campaign  previous  \\\n",
       "0   30        0     1787        0     0   19     10         1         0   \n",
       "1   33        0     4789        1     1   11      8         1         4   \n",
       "2   35        0     1350        1     0   16      0         1         1   \n",
       "3   30        0     1476        1     1    3      6         4         0   \n",
       "4   59        0        0        1     0    5      8         1         0   \n",
       "\n",
       "   job_admin.  ...  job_student  job_technician  job_unemployed  \\\n",
       "0           0  ...            0               0               1   \n",
       "1           0  ...            0               0               0   \n",
       "2           0  ...            0               0               0   \n",
       "3           0  ...            0               0               0   \n",
       "4           0  ...            0               0               0   \n",
       "\n",
       "   marital_divorced  marital_married  marital_single  education_primary  \\\n",
       "0                 0                1               0                  1   \n",
       "1                 0                1               0                  0   \n",
       "2                 0                0               1                  0   \n",
       "3                 0                1               0                  0   \n",
       "4                 0                1               0                  0   \n",
       "\n",
       "   education_secondary  education_tertiary  y  \n",
       "0                    0                   0  0  \n",
       "1                    1                   0  0  \n",
       "2                    0                   1  0  \n",
       "3                    0                   1  0  \n",
       "4                    1                   0  0  \n",
       "\n",
       "[5 rows x 27 columns]"
      ]
     },
     "execution_count": 76,
     "metadata": {},
     "output_type": "execute_result"
    }
   ],
   "source": [
    "# Moving target output to end of dataframe\n",
    "dfy = df.pop('y')\n",
    "df['y'] = dfy\n",
    "df.head()"
   ]
  },
  {
   "cell_type": "markdown",
   "id": "e20d88b0",
   "metadata": {
    "id": "e20d88b0"
   },
   "source": [
    "### Pre-processing <a class=\"anchor\" id=\"chapter3\"></a>"
   ]
  },
  {
   "cell_type": "code",
   "execution_count": 77,
   "id": "546e3d84",
   "metadata": {
    "id": "546e3d84"
   },
   "outputs": [],
   "source": [
    "# Slicing into X and y\n",
    "X = df[df.columns[:-1]]\n",
    "y = df['y']"
   ]
  },
  {
   "cell_type": "code",
   "execution_count": 78,
   "id": "93f8e76a",
   "metadata": {
    "id": "93f8e76a"
   },
   "outputs": [],
   "source": [
    "# Train and Test split\n",
    "X_train, X_test, y_train, y_test = train_test_split(X, y, test_size = 0.25, random_state = 42, stratify = y)"
   ]
  },
  {
   "cell_type": "code",
   "execution_count": 79,
   "id": "66b2a4f7",
   "metadata": {
    "colab": {
     "base_uri": "https://localhost:8080/"
    },
    "id": "66b2a4f7",
    "outputId": "130c499d-d29a-4bd7-9f95-fde346f207d3"
   },
   "outputs": [
    {
     "name": "stdout",
     "output_type": "stream",
     "text": [
      "3231 1078 3231 4309 4309\n"
     ]
    }
   ],
   "source": [
    "print(len(X_train), len(X_test), len(y_train), len(X), len(y))"
   ]
  },
  {
   "cell_type": "code",
   "execution_count": 80,
   "id": "QdwGORx8sw16",
   "metadata": {
    "id": "QdwGORx8sw16"
   },
   "outputs": [],
   "source": [
    "# Train and Validation split\n",
    "X_train, X_val, y_train, y_val = train_test_split(X_train, y_train, test_size = 0.25, random_state = 42, stratify = y_train)"
   ]
  },
  {
   "cell_type": "code",
   "execution_count": 81,
   "id": "ihTEUbIUzK4U",
   "metadata": {
    "id": "ihTEUbIUzK4U"
   },
   "outputs": [],
   "source": [
    "# Scaling the data for better training (not scaling any data used in pipelines as they will be scaled seperately)\n",
    "sc = MinMaxScaler()\n",
    "X_train_scaled = sc.fit_transform(X_train)\n",
    "X_val = sc.transform(X_val)\n",
    "X_test = sc.transform(X_test)"
   ]
  },
  {
   "cell_type": "code",
   "execution_count": 82,
   "id": "1ksWzXTI2zjd",
   "metadata": {
    "id": "1ksWzXTI2zjd"
   },
   "outputs": [],
   "source": [
    "# Using SMOTE to balance data for training (only training set to avoid data leakage)\n",
    "smote = SMOTE(random_state=42)\n",
    "X_train_smote, y_train_smote = smote.fit_resample(X_train_scaled, y_train)"
   ]
  },
  {
   "cell_type": "code",
   "execution_count": 83,
   "id": "7YYYb6qEJK7b",
   "metadata": {
    "id": "7YYYb6qEJK7b"
   },
   "outputs": [],
   "source": [
    "# Turning new arrays into dataframes\n",
    "X_train_smote = pd.DataFrame(X_train_smote)\n",
    "y_train_smote = pd.DataFrame(y_train_smote)\n",
    "X_val = pd.DataFrame(X_val)\n",
    "y_val = pd.DataFrame(y_val)\n",
    "X_test = pd.DataFrame(X_test)\n",
    "y_test = pd.DataFrame(y_test)"
   ]
  },
  {
   "cell_type": "code",
   "execution_count": 84,
   "id": "wQapvNF43MEv",
   "metadata": {
    "colab": {
     "base_uri": "https://localhost:8080/",
     "height": 305
    },
    "id": "wQapvNF43MEv",
    "outputId": "c5867049-fcbf-4734-d84a-1ae17f3246bd"
   },
   "outputs": [
    {
     "data": {
      "text/plain": [
       "Text(0, 0.5, 'values')"
      ]
     },
     "execution_count": 84,
     "metadata": {},
     "output_type": "execute_result"
    },
    {
     "data": {
      "image/png": "[encoded data removed]",
      "text/plain": [
       "<Figure size 432x288 with 1 Axes>"
      ]
     },
     "metadata": {
      "needs_background": "light"
     },
     "output_type": "display_data"
    }
   ],
   "source": [
    "y_train_smote.value_counts().plot.bar()\n",
    "plt.xlabel('Deposit')\n",
    "plt.ylabel('values')"
   ]
  },
  {
   "cell_type": "code",
   "execution_count": null,
   "id": "nU7nz9Es3a7C",
   "metadata": {
    "id": "nU7nz9Es3a7C"
   },
   "outputs": [],
   "source": [
    "# Saving sets to csv\n",
    "X_train.to_csv('X_train.csv',index=False)\n",
    "\n",
    "X_train_smote.to_csv('X_train_smote.csv',index=False)\n",
    "\n",
    "X_val.to_csv('X_val.csv',index=False)\n",
    "\n",
    "y_train.to_csv('y_train.csv',index=False)\n",
    "\n",
    "y_train_smote.to_csv('y_train_smote.csv',index=False)\n",
    "\n",
    "y_val.to_csv('y_val.csv',index=False)\n",
    "\n",
    "X_test.to_csv('X_test.csv',index=False)\n",
    "\n",
    "y_test.to_csv('y_test.csv',index=False) "
   ]
  },
  {
   "cell_type": "markdown",
   "id": "_cc2xahsK2JL",
   "metadata": {
    "id": "_cc2xahsK2JL"
   },
   "source": [
    "#### Loading Datasets"
   ]
  },
  {
   "cell_type": "code",
   "execution_count": 2,
   "id": "sv8lEa-RJxjh",
   "metadata": {
    "id": "sv8lEa-RJxjh"
   },
   "outputs": [],
   "source": [
    "X_train = pd.read_csv(\"X_train.csv\")\n",
    "X_train_smote = pd.read_csv(\"X_train_smote.csv\")\n",
    "X_val = pd.read_csv(\"X_val.csv\")\n",
    "\n",
    "y_train = pd.read_csv(\"y_train.csv\")\n",
    "y_train_smote = pd.read_csv(\"y_train_smote.csv\")\n",
    "y_val = pd.read_csv(\"y_val.csv\")\n",
    "\n",
    "X_test = pd.read_csv(\"X_test.csv\")\n",
    "y_test = pd.read_csv(\"y_test.csv\")"
   ]
  },
  {
   "cell_type": "markdown",
   "id": "97cfa753",
   "metadata": {},
   "source": [
    "### Model Creation <a class=\"anchor\" id=\"chapter4\"></a>"
   ]
  },
  {
   "cell_type": "markdown",
   "id": "d6598edf",
   "metadata": {
    "id": "d6598edf"
   },
   "source": [
    "#### SVM Model Creation"
   ]
  },
  {
   "cell_type": "code",
   "execution_count": 48,
   "id": "fbec3147",
   "metadata": {
    "colab": {
     "base_uri": "https://localhost:8080/"
    },
    "id": "fbec3147",
    "outputId": "bf3f5d2b-96e8-418b-c677-eafd33c59605"
   },
   "outputs": [
    {
     "data": {
      "text/plain": [
       "SVC(kernel='linear', random_state=42)"
      ]
     },
     "execution_count": 48,
     "metadata": {},
     "output_type": "execute_result"
    }
   ],
   "source": [
    "# Running baseline SVM on unbalanced data to compare results\n",
    "base_svc = SVC(kernel = 'linear', random_state = 42)\n",
    "base_svc.fit(X_train.values, y_train.ravel())"
   ]
  },
  {
   "cell_type": "code",
   "execution_count": 49,
   "id": "QZ25ZMPIiOWm",
   "metadata": {
    "colab": {
     "base_uri": "https://localhost:8080/"
    },
    "id": "QZ25ZMPIiOWm",
    "outputId": "4b1cb65c-1be8-4a4f-e9c4-9837a2d3670e"
   },
   "outputs": [
    {
     "name": "stdout",
     "output_type": "stream",
     "text": [
      "              precision    recall  f1-score   support\n",
      "\n",
      "           0       0.89      0.94      0.91       715\n",
      "           1       0.18      0.10      0.12        93\n",
      "\n",
      "    accuracy                           0.84       808\n",
      "   macro avg       0.53      0.52      0.52       808\n",
      "weighted avg       0.81      0.84      0.82       808\n",
      "\n"
     ]
    }
   ],
   "source": [
    "# Statistics report for baseline SVM model (training)\n",
    "print(classification_report(y_val, base_svc.predict(X_val.values)))"
   ]
  },
  {
   "cell_type": "code",
   "execution_count": 50,
   "id": "s7djTY8qkIQs",
   "metadata": {
    "colab": {
     "base_uri": "https://localhost:8080/",
     "height": 352
    },
    "id": "s7djTY8qkIQs",
    "outputId": "412c21d5-863e-43a7-cad5-fc543f7a0fc5"
   },
   "outputs": [
    {
     "name": "stderr",
     "output_type": "stream",
     "text": [
      "/usr/local/lib/python3.7/dist-packages/sklearn/utils/deprecation.py:87: FutureWarning: Function plot_confusion_matrix is deprecated; Function `plot_confusion_matrix` is deprecated in 1.0 and will be removed in 1.2. Use one of the class methods: ConfusionMatrixDisplay.from_predictions or ConfusionMatrixDisplay.from_estimator.\n",
      "  warnings.warn(msg, category=FutureWarning)\n"
     ]
    },
    {
     "data": {
      "image/png": "[encoded data removed]",
      "text/plain": [
       "<Figure size 432x288 with 2 Axes>"
      ]
     },
     "metadata": {
      "needs_background": "light"
     },
     "output_type": "display_data"
    }
   ],
   "source": [
    "# Plotting confusion matrix for model\n",
    "base_svc_cm = plot_confusion_matrix(base_svc, X_val, y_val)\n",
    "base_svc_cm.ax_.set_title('Base SVM (unbalanced) on validation set')\n",
    "plt.show()"
   ]
  },
  {
   "cell_type": "code",
   "execution_count": 50,
   "id": "qW2rx8vI4a6l",
   "metadata": {
    "colab": {
     "base_uri": "https://localhost:8080/"
    },
    "id": "qW2rx8vI4a6l",
    "outputId": "54f8258b-fe79-4174-ef0d-ee04879f3ee9"
   },
   "outputs": [
    {
     "data": {
      "text/plain": [
       "SVC(kernel='linear', random_state=42)"
      ]
     },
     "execution_count": 50,
     "metadata": {},
     "output_type": "execute_result"
    }
   ],
   "source": [
    "# Running baseline SVM on balanced data\n",
    "base_svc_smote = SVC(kernel = 'linear', random_state = 42)\n",
    "base_svc_smote.fit(X_train_smote, y_train_smote.values.ravel())"
   ]
  },
  {
   "cell_type": "code",
   "execution_count": 50,
   "id": "PWWEwhcVEUhH",
   "metadata": {
    "colab": {
     "base_uri": "https://localhost:8080/"
    },
    "id": "PWWEwhcVEUhH",
    "outputId": "bde97b2f-607c-43d5-96a5-8eadebe4ae95"
   },
   "outputs": [
    {
     "name": "stdout",
     "output_type": "stream",
     "text": [
      "              precision    recall  f1-score   support\n",
      "\n",
      "           0       0.91      0.64      0.75       715\n",
      "           1       0.16      0.53      0.25        93\n",
      "\n",
      "    accuracy                           0.63       808\n",
      "   macro avg       0.54      0.58      0.50       808\n",
      "weighted avg       0.83      0.63      0.69       808\n",
      "\n"
     ]
    }
   ],
   "source": [
    "# Statistics report for baseline smote SVM model (validation)\n",
    "print(classification_report(y_val, base_svc_smote.predict(X_val)))"
   ]
  },
  {
   "cell_type": "code",
   "execution_count": 51,
   "id": "3tH5ctuvkVO4",
   "metadata": {
    "colab": {
     "base_uri": "https://localhost:8080/",
     "height": 352
    },
    "id": "3tH5ctuvkVO4",
    "outputId": "ecc5353f-144d-40c9-84c5-1fa975893ee6"
   },
   "outputs": [
    {
     "name": "stderr",
     "output_type": "stream",
     "text": [
      "/usr/local/lib/python3.7/dist-packages/sklearn/utils/deprecation.py:87: FutureWarning: Function plot_confusion_matrix is deprecated; Function `plot_confusion_matrix` is deprecated in 1.0 and will be removed in 1.2. Use one of the class methods: ConfusionMatrixDisplay.from_predictions or ConfusionMatrixDisplay.from_estimator.\n",
      "  warnings.warn(msg, category=FutureWarning)\n"
     ]
    },
    {
     "data": {
      "image/png": "[encoded data removed]",
      "text/plain": [
       "<Figure size 432x288 with 2 Axes>"
      ]
     },
     "metadata": {
      "needs_background": "light"
     },
     "output_type": "display_data"
    }
   ],
   "source": [
    "# Plotting confusion matrix for model\n",
    "base_svc_smote_cm = plot_confusion_matrix(base_svc_smote, X_val, y_val)\n",
    "base_svc_smote_cm.ax_.set_title('Base SVM (balanced) on validation set')\n",
    "plt.show()"
   ]
  },
  {
   "cell_type": "code",
   "execution_count": 54,
   "id": "COm1zpAhC5kd",
   "metadata": {
    "colab": {
     "base_uri": "https://localhost:8080/"
    },
    "id": "COm1zpAhC5kd",
    "outputId": "e3e06c18-8f30-4c40-c535-5ddd4f38f3d5"
   },
   "outputs": [
    {
     "name": "stdout",
     "output_type": "stream",
     "text": [
      "Fitting 5 folds for each of 27 candidates, totalling 135 fits\n"
     ]
    }
   ],
   "source": [
    "# Finding best SVM model\n",
    "params_svc = {'svc__kernel':('linear', 'poly','rbf'), 'svc__C':[0.1, 1, 5], 'svc__degree':[2,3,4]}\n",
    "pipe_svc = Pipeline(steps = [['smote', SMOTE(random_state=42)],\n",
    "                             ['scaler', MinMaxScaler()],\n",
    "                             ['svc', SVC(random_state=42)]])\n",
    "                    \n",
    "svc = GridSearchCV(pipe_svc, params_svc, cv = 5, scoring = 'recall', return_train_score=True, verbose=True)\n",
    "\n",
    "start_pipe_svc = time.time()\n",
    "svc.fit(X_train.values, y_train.values.ravel())\n",
    "end_pipe_svc = time.time()"
   ]
  },
  {
   "cell_type": "code",
   "execution_count": 55,
   "id": "RtwR8qe-JEPc",
   "metadata": {
    "colab": {
     "base_uri": "https://localhost:8080/"
    },
    "id": "RtwR8qe-JEPc",
    "outputId": "d0118cbd-9be6-4c7f-ef00-de069f613c17"
   },
   "outputs": [
    {
     "name": "stdout",
     "output_type": "stream",
     "text": [
      "Training time: 55.99348449707031\n"
     ]
    }
   ],
   "source": [
    "print(f'Training time: {end_pipe_svc - start_pipe_svc}')"
   ]
  },
  {
   "cell_type": "code",
   "execution_count": 56,
   "id": "rJYxe0bIfl5u",
   "metadata": {
    "colab": {
     "base_uri": "https://localhost:8080/"
    },
    "id": "rJYxe0bIfl5u",
    "outputId": "fc9e929f-d46a-4b53-a6b5-745a53c1a206"
   },
   "outputs": [
    {
     "name": "stdout",
     "output_type": "stream",
     "text": [
      "0.13571428571428573 {'svc__C': 5, 'svc__degree': 4, 'svc__kernel': 'poly'}\n"
     ]
    }
   ],
   "source": [
    "# Observe best score and parameters\n",
    "print(svc.best_score_, svc.best_params_)"
   ]
  },
  {
   "cell_type": "code",
   "execution_count": 57,
   "id": "FU2X1BdTmIk9",
   "metadata": {
    "colab": {
     "base_uri": "https://localhost:8080/"
    },
    "id": "FU2X1BdTmIk9",
    "outputId": "208ae458-d6cc-48ad-91c8-c60ae3188fb1"
   },
   "outputs": [
    {
     "name": "stdout",
     "output_type": "stream",
     "text": [
      "              precision    recall  f1-score   support\n",
      "\n",
      "           0       0.90      0.77      0.83       715\n",
      "           1       0.15      0.31      0.20        93\n",
      "\n",
      "    accuracy                           0.72       808\n",
      "   macro avg       0.52      0.54      0.52       808\n",
      "weighted avg       0.81      0.72      0.76       808\n",
      "\n"
     ]
    }
   ],
   "source": [
    "# Statistics report for best SVM model (validation)\n",
    "print(classification_report(y_val, svc.predict(X_val)))"
   ]
  },
  {
   "cell_type": "code",
   "execution_count": 58,
   "id": "QPNq-TOkkcUf",
   "metadata": {
    "colab": {
     "base_uri": "https://localhost:8080/",
     "height": 352
    },
    "id": "QPNq-TOkkcUf",
    "outputId": "f5bd9dea-fbbe-4f0c-a797-f875a6208654"
   },
   "outputs": [
    {
     "name": "stderr",
     "output_type": "stream",
     "text": [
      "/usr/local/lib/python3.7/dist-packages/sklearn/utils/deprecation.py:87: FutureWarning: Function plot_confusion_matrix is deprecated; Function `plot_confusion_matrix` is deprecated in 1.0 and will be removed in 1.2. Use one of the class methods: ConfusionMatrixDisplay.from_predictions or ConfusionMatrixDisplay.from_estimator.\n",
      "  warnings.warn(msg, category=FutureWarning)\n"
     ]
    },
    {
     "data": {
      "image/png": "[encoded data removed]",
      "text/plain": [
       "<Figure size 432x288 with 2 Axes>"
      ]
     },
     "metadata": {
      "needs_background": "light"
     },
     "output_type": "display_data"
    }
   ],
   "source": [
    "# Plotting confusion matrix for model\n",
    "svc_val_cm = plot_confusion_matrix(svc, X_val, y_val)\n",
    "svc_val_cm.ax_.set_title('Best SVM on validation set')\n",
    "plt.show()"
   ]
  },
  {
   "cell_type": "code",
   "execution_count": 84,
   "id": "OBsO6ytngLsG",
   "metadata": {
    "colab": {
     "base_uri": "https://localhost:8080/"
    },
    "id": "OBsO6ytngLsG",
    "outputId": "d7f840da-2273-4ed5-b10d-528bb3fec00a"
   },
   "outputs": [
    {
     "name": "stdout",
     "output_type": "stream",
     "text": [
      "    Kernel       C Degree   Score\n",
      "0   linear 0.10000      2 0.00714\n",
      "1     poly 0.10000      2 0.02321\n",
      "2      rbf 0.10000      2 0.00000\n",
      "3   linear 0.10000      3 0.00714\n",
      "4     poly 0.10000      3 0.04464\n",
      "5      rbf 0.10000      3 0.00000\n",
      "6   linear 0.10000      4 0.00714\n",
      "7     poly 0.10000      4 0.10089\n",
      "8      rbf 0.10000      4 0.00000\n",
      "9   linear       1      2 0.00000\n",
      "10    poly       1      2 0.01607\n",
      "11     rbf       1      2 0.02500\n",
      "12  linear       1      3 0.00000\n",
      "13    poly       1      3 0.12679\n",
      "14     rbf       1      3 0.02500\n",
      "15  linear       1      4 0.00000\n",
      "16    poly       1      4 0.23661\n",
      "17     rbf       1      4 0.02500\n",
      "18  linear       5      2 0.00000\n",
      "19    poly       5      2 0.05982\n",
      "20     rbf       5      2 0.17500\n",
      "21  linear       5      3 0.00000\n",
      "22    poly       5      3 0.27411\n",
      "23     rbf       5      3 0.17500\n",
      "24  linear       5      4 0.00000\n",
      "25    poly       5      4 0.39286\n",
      "26     rbf       5      4 0.17500\n"
     ]
    }
   ],
   "source": [
    "# See results for each set of parameters\n",
    "svc_result = pd.DataFrame(svc.cv_results_)\n",
    "svc_result = svc_result[['param_svc__kernel', 'param_svc__C', 'param_svc__degree', 'mean_train_score']]\n",
    "svc_result.columns = ['Kernel', 'C', 'Degree', 'Score']\n",
    "pd.set_option('display.float_format', lambda x: '%0.5f' % x)\n",
    "#pd.reset_option('display.float_format')\n",
    "print(svc_result)"
   ]
  },
  {
   "cell_type": "code",
   "execution_count": 60,
   "id": "AzrxV7F8gDGo",
   "metadata": {
    "id": "AzrxV7F8gDGo"
   },
   "outputs": [],
   "source": [
    "# Saving best SVM\n",
    "dump(svc, 'SVM_Best.joblib')\n",
    "!cp SVM_Best.joblib \"drive/My Drive/\""
   ]
  },
  {
   "cell_type": "code",
   "execution_count": 51,
   "id": "aL21o1302pdH",
   "metadata": {
    "id": "aL21o1302pdH"
   },
   "outputs": [],
   "source": [
    "# Saving best SVM\n",
    "dump(base_svc_smote, 'SVM_Best.joblib')\n",
    "!cp SVM_Best.joblib \"drive/My Drive/\""
   ]
  },
  {
   "cell_type": "markdown",
   "id": "fM2kq3aLDHeq",
   "metadata": {
    "id": "fM2kq3aLDHeq"
   },
   "source": [
    "#### MLP Model Creation"
   ]
  },
  {
   "cell_type": "code",
   "execution_count": 61,
   "id": "4DvA_ErKDI9_",
   "metadata": {
    "colab": {
     "base_uri": "https://localhost:8080/"
    },
    "id": "4DvA_ErKDI9_",
    "outputId": "02259f83-b520-4ca5-de95-636f561ea303"
   },
   "outputs": [
    {
     "data": {
      "text/plain": [
       "MLPClassifier(hidden_layer_sizes=10, learning_rate_init=0.3, max_iter=100,\n",
       "              random_state=42)"
      ]
     },
     "execution_count": 61,
     "metadata": {},
     "output_type": "execute_result"
    }
   ],
   "source": [
    "# Creating baseline MLP with default values\n",
    "# Baseline parameters from paper here https://link.springer.com/chapter/10.1007/978-3-319-46681-1_7?noAccess#Sec6\n",
    "base_mlp = MLPClassifier(hidden_layer_sizes = 10, learning_rate_init = 0.3, max_iter = 100, random_state = 42)\n",
    "base_mlp.fit(X_train_smote, y_train_smote.values.ravel())"
   ]
  },
  {
   "cell_type": "code",
   "execution_count": 62,
   "id": "sFP_h_bjN3bp",
   "metadata": {
    "colab": {
     "base_uri": "https://localhost:8080/"
    },
    "id": "sFP_h_bjN3bp",
    "outputId": "7ae9ec46-8799-4a95-8cdb-9c7b8f3a3a12"
   },
   "outputs": [
    {
     "name": "stdout",
     "output_type": "stream",
     "text": [
      "              precision    recall  f1-score   support\n",
      "\n",
      "           0       0.91      0.10      0.17       715\n",
      "           1       0.12      0.92      0.21        93\n",
      "\n",
      "    accuracy                           0.19       808\n",
      "   macro avg       0.51      0.51      0.19       808\n",
      "weighted avg       0.82      0.19      0.18       808\n",
      "\n"
     ]
    }
   ],
   "source": [
    "# Statistics report for baseline MLP (validation)\n",
    "print(classification_report(y_val, base_mlp.predict(X_val)))"
   ]
  },
  {
   "cell_type": "code",
   "execution_count": 63,
   "id": "rpJBEx9TrOEv",
   "metadata": {
    "colab": {
     "base_uri": "https://localhost:8080/",
     "height": 352
    },
    "id": "rpJBEx9TrOEv",
    "outputId": "e689fb48-2052-43b7-ff7c-ea1b8b54637a"
   },
   "outputs": [
    {
     "name": "stderr",
     "output_type": "stream",
     "text": [
      "/usr/local/lib/python3.7/dist-packages/sklearn/utils/deprecation.py:87: FutureWarning: Function plot_confusion_matrix is deprecated; Function `plot_confusion_matrix` is deprecated in 1.0 and will be removed in 1.2. Use one of the class methods: ConfusionMatrixDisplay.from_predictions or ConfusionMatrixDisplay.from_estimator.\n",
      "  warnings.warn(msg, category=FutureWarning)\n"
     ]
    },
    {
     "data": {
      "image/png": "[encoded data removed]",
      "text/plain": [
       "<Figure size 432x288 with 2 Axes>"
      ]
     },
     "metadata": {
      "needs_background": "light"
     },
     "output_type": "display_data"
    }
   ],
   "source": [
    "mlp_base_cm = plot_confusion_matrix(base_mlp, X_val, y_val)\n",
    "mlp_base_cm.ax_.set_title('Base MLP on validation set')\n",
    "plt.show()"
   ]
  },
  {
   "cell_type": "code",
   "execution_count": 64,
   "id": "0h4J7H-6JLyn",
   "metadata": {
    "colab": {
     "base_uri": "https://localhost:8080/"
    },
    "id": "0h4J7H-6JLyn",
    "outputId": "9ea56427-b619-4439-b0da-a73842081740"
   },
   "outputs": [
    {
     "name": "stdout",
     "output_type": "stream",
     "text": [
      "Fitting 5 folds for each of 27 candidates, totalling 135 fits\n"
     ]
    }
   ],
   "source": [
    "# Finding best MLP model\n",
    "params_mlp = {'mlp__hidden_layer_sizes':[50, 100, 200], 'mlp__learning_rate_init':[0.05, 0.1, 0.3], 'mlp__activation':['logistic', 'tanh', 'relu']}\n",
    "pipe_mlp = Pipeline(steps = [['smote', SMOTE(random_state=42)],\n",
    "                             ['scaler', MinMaxScaler()],\n",
    "                             ['mlp', MLPClassifier(max_iter = 300, random_state = 42)]])\n",
    "                    \n",
    "mlp = GridSearchCV(pipe_mlp, params_mlp, cv = 5, scoring = 'recall', return_train_score=True, verbose=True)\n",
    "\n",
    "start_pipe_mlp = time.time()\n",
    "mlp.fit(X_train.values, y_train.values.ravel())\n",
    "end_pipe_mlp = time.time()"
   ]
  },
  {
   "cell_type": "code",
   "execution_count": 65,
   "id": "wc92dww7OoS9",
   "metadata": {
    "colab": {
     "base_uri": "https://localhost:8080/"
    },
    "id": "wc92dww7OoS9",
    "outputId": "f4d32c72-6948-41e2-d04e-77c43e10fd35"
   },
   "outputs": [
    {
     "name": "stdout",
     "output_type": "stream",
     "text": [
      "Training time: 402.95757961273193\n"
     ]
    }
   ],
   "source": [
    "print(f'Training time: {end_pipe_mlp - start_pipe_mlp}')"
   ]
  },
  {
   "cell_type": "code",
   "execution_count": 66,
   "id": "zybLv5iaQImD",
   "metadata": {
    "colab": {
     "base_uri": "https://localhost:8080/"
    },
    "id": "zybLv5iaQImD",
    "outputId": "8cf0995a-1d6f-40a6-b94d-534b409d470a"
   },
   "outputs": [
    {
     "name": "stdout",
     "output_type": "stream",
     "text": [
      "0.29285714285714287 {'mlp__activation': 'tanh', 'mlp__hidden_layer_sizes': 200, 'mlp__learning_rate_init': 0.1}\n"
     ]
    }
   ],
   "source": [
    "# Observe best score and parameters\n",
    "print(mlp.best_score_, mlp.best_params_)"
   ]
  },
  {
   "cell_type": "code",
   "execution_count": 67,
   "id": "olQiQrt5nSzW",
   "metadata": {
    "colab": {
     "base_uri": "https://localhost:8080/"
    },
    "id": "olQiQrt5nSzW",
    "outputId": "ecdcb26a-48ce-49cb-f52c-96cb5a0ff14c"
   },
   "outputs": [
    {
     "name": "stdout",
     "output_type": "stream",
     "text": [
      "              precision    recall  f1-score   support\n",
      "\n",
      "           0       0.89      0.87      0.88       715\n",
      "           1       0.13      0.15      0.14        93\n",
      "\n",
      "    accuracy                           0.79       808\n",
      "   macro avg       0.51      0.51      0.51       808\n",
      "weighted avg       0.80      0.79      0.79       808\n",
      "\n"
     ]
    }
   ],
   "source": [
    "# Statistics report for best MLP (validation)\n",
    "print(classification_report(y_val, mlp.predict(X_val)))"
   ]
  },
  {
   "cell_type": "code",
   "execution_count": 68,
   "id": "Y4sQ0oeYsYw8",
   "metadata": {
    "colab": {
     "base_uri": "https://localhost:8080/",
     "height": 352
    },
    "id": "Y4sQ0oeYsYw8",
    "outputId": "a576eff8-251f-4d50-b923-035cfa0d1ef3"
   },
   "outputs": [
    {
     "name": "stderr",
     "output_type": "stream",
     "text": [
      "/usr/local/lib/python3.7/dist-packages/sklearn/utils/deprecation.py:87: FutureWarning: Function plot_confusion_matrix is deprecated; Function `plot_confusion_matrix` is deprecated in 1.0 and will be removed in 1.2. Use one of the class methods: ConfusionMatrixDisplay.from_predictions or ConfusionMatrixDisplay.from_estimator.\n",
      "  warnings.warn(msg, category=FutureWarning)\n"
     ]
    },
    {
     "data": {
      "image/png": "[encoded data removed]",
      "text/plain": [
       "<Figure size 432x288 with 2 Axes>"
      ]
     },
     "metadata": {
      "needs_background": "light"
     },
     "output_type": "display_data"
    }
   ],
   "source": [
    "mlp_val_cm = plot_confusion_matrix(mlp, X_val, y_val)\n",
    "mlp_val_cm.ax_.set_title('Best MLP on validation set')\n",
    "plt.show()"
   ]
  },
  {
   "cell_type": "code",
   "execution_count": 79,
   "id": "O85597vhRNNI",
   "metadata": {
    "colab": {
     "base_uri": "https://localhost:8080/"
    },
    "id": "O85597vhRNNI",
    "outputId": "8e9e8efe-8c0e-4d4c-a9d2-f495a2c74a51"
   },
   "outputs": [
    {
     "name": "stdout",
     "output_type": "stream",
     "text": [
      "   Hidden Layers Learning Rate Activation   Score\n",
      "0             50       0.05000   logistic 0.15714\n",
      "1             50       0.10000   logistic 0.18571\n",
      "2             50       0.30000   logistic 0.12143\n",
      "3            100       0.05000   logistic 0.19286\n",
      "4            100       0.10000   logistic 0.22857\n",
      "5            100       0.30000   logistic 0.18929\n",
      "6            200       0.05000   logistic 0.21071\n",
      "7            200       0.10000   logistic 0.17857\n",
      "8            200       0.30000   logistic 0.11071\n",
      "9             50       0.05000       tanh 0.19286\n",
      "10            50       0.10000       tanh 0.15714\n",
      "11            50       0.30000       tanh 0.16071\n",
      "12           100       0.05000       tanh 0.20357\n",
      "13           100       0.10000       tanh 0.13571\n",
      "14           100       0.30000       tanh 0.20714\n",
      "15           200       0.05000       tanh 0.19643\n",
      "16           200       0.10000       tanh 0.29286\n",
      "17           200       0.30000       tanh 0.27500\n",
      "18            50       0.05000       relu 0.16786\n",
      "19            50       0.10000       relu 0.11786\n",
      "20            50       0.30000       relu 0.07857\n",
      "21           100       0.05000       relu 0.18214\n",
      "22           100       0.10000       relu 0.12500\n",
      "23           100       0.30000       relu 0.18571\n",
      "24           200       0.05000       relu 0.17857\n",
      "25           200       0.10000       relu 0.15714\n",
      "26           200       0.30000       relu 0.01429\n"
     ]
    }
   ],
   "source": [
    "# See results for each set of parameters\n",
    "mlp_result = pd.DataFrame(mlp.cv_results_)\n",
    "mlp_result = mlp_result[['param_mlp__hidden_layer_sizes', 'param_mlp__learning_rate_init', 'param_mlp__activation', 'mean_test_score']]\n",
    "mlp_result.columns = ['Hidden Layers', 'Learning Rate', 'Activation', 'Score']\n",
    "#pd.set_option('display.float_format', lambda x: '%0.5f' % x)\n",
    "print(mlp_result)"
   ]
  },
  {
   "cell_type": "code",
   "execution_count": null,
   "id": "vlSHBs7nQPd3",
   "metadata": {
    "id": "vlSHBs7nQPd3"
   },
   "outputs": [],
   "source": [
    "# Saving best MLP\n",
    "dump(mlp, 'MLP_Best.joblib')\n",
    "!cp MLP_Best.joblib \"drive/My Drive/\""
   ]
  },
  {
   "cell_type": "markdown",
   "id": "FUtb23DaCB_D",
   "metadata": {
    "id": "FUtb23DaCB_D"
   },
   "source": [
    "### Model Testing <a class=\"anchor\" id=\"chapter5\"></a>"
   ]
  },
  {
   "cell_type": "code",
   "execution_count": 23,
   "id": "s3k_b1G3Cl5o",
   "metadata": {
    "id": "s3k_b1G3Cl5o"
   },
   "outputs": [],
   "source": [
    "# Loading test sets (filepath may be different depending on where you run this notebook)\n",
    "X_test = pd.read_csv(\"X_test.csv\")\n",
    "y_test = pd.read_csv(\"y_test.csv\")\n",
    "X_test = pd.DataFrame(X_test)\n",
    "y_test = pd.DataFrame(y_test)"
   ]
  },
  {
   "cell_type": "code",
   "execution_count": 14,
   "id": "oEg7G7bYE3Df",
   "metadata": {
    "id": "oEg7G7bYE3Df"
   },
   "outputs": [],
   "source": [
    "# Loading models (filepath may be different depending on where you run this notebook)\n",
    "svc = load(\"SVM_Best.joblib\")\n",
    "mlp = load(\"MLP_best.joblib\")"
   ]
  },
  {
   "cell_type": "markdown",
   "id": "6HRKKYWxjZw7",
   "metadata": {
    "id": "6HRKKYWxjZw7"
   },
   "source": [
    "#### SVM Testing"
   ]
  },
  {
   "cell_type": "code",
   "execution_count": 35,
   "id": "6Kiho6AC2N3I",
   "metadata": {
    "colab": {
     "base_uri": "https://localhost:8080/"
    },
    "id": "6Kiho6AC2N3I",
    "outputId": "be4e0151-a7fe-49dc-8170-a9754a1f19e9"
   },
   "outputs": [
    {
     "name": "stdout",
     "output_type": "stream",
     "text": [
      "              precision    recall  f1-score   support\n",
      "\n",
      "           0       0.92      0.65      0.76       953\n",
      "           1       0.18      0.57      0.27       125\n",
      "\n",
      "    accuracy                           0.64      1078\n",
      "   macro avg       0.55      0.61      0.52      1078\n",
      "weighted avg       0.83      0.64      0.71      1078\n",
      "\n"
     ]
    }
   ],
   "source": [
    "# Statistics report for best SVM\n",
    "print(classification_report(y_test, svc.predict(X_test)))"
   ]
  },
  {
   "cell_type": "code",
   "execution_count": 25,
   "id": "SK79SZDO2N3J",
   "metadata": {
    "colab": {
     "base_uri": "https://localhost:8080/",
     "height": 352
    },
    "id": "SK79SZDO2N3J",
    "outputId": "d3c403e4-fbe3-44c7-9764-5e81c2ab6ec0"
   },
   "outputs": [
    {
     "name": "stderr",
     "output_type": "stream",
     "text": [
      "/Users/edward/opt/anaconda3/lib/python3.8/site-packages/sklearn/utils/deprecation.py:87: FutureWarning: Function plot_confusion_matrix is deprecated; Function `plot_confusion_matrix` is deprecated in 1.0 and will be removed in 1.2. Use one of the class methods: ConfusionMatrixDisplay.from_predictions or ConfusionMatrixDisplay.from_estimator.\n",
      "  warnings.warn(msg, category=FutureWarning)\n"
     ]
    },
    {
     "data": {
      "image/png": "[encoded data removed]",
      "text/plain": [
       "<Figure size 432x288 with 2 Axes>"
      ]
     },
     "metadata": {
      "needs_background": "light"
     },
     "output_type": "display_data"
    }
   ],
   "source": [
    "# Best SVM confusion matrix\n",
    "svc_cm = plot_confusion_matrix(svc, X_test, y_test)\n",
    "svc_cm.ax_.set_title('Best SVM')\n",
    "plt.show()"
   ]
  },
  {
   "cell_type": "code",
   "execution_count": 26,
   "id": "TRhl3ZqA2N3J",
   "metadata": {
    "colab": {
     "base_uri": "https://localhost:8080/",
     "height": 354
    },
    "id": "TRhl3ZqA2N3J",
    "outputId": "9935185b-cf39-45fe-dafd-a5e7950df78f"
   },
   "outputs": [
    {
     "name": "stderr",
     "output_type": "stream",
     "text": [
      "/Users/edward/opt/anaconda3/lib/python3.8/site-packages/sklearn/utils/deprecation.py:87: FutureWarning: Function plot_roc_curve is deprecated; Function :func:`plot_roc_curve` is deprecated in 1.0 and will be removed in 1.2. Use one of the class methods: :meth:`sklearn.metric.RocCurveDisplay.from_predictions` or :meth:`sklearn.metric.RocCurveDisplay.from_estimator`.\n",
      "  warnings.warn(msg, category=FutureWarning)\n"
     ]
    },
    {
     "data": {
      "text/plain": [
       "<sklearn.metrics._plot.roc_curve.RocCurveDisplay at 0x7f9939165eb0>"
      ]
     },
     "execution_count": 26,
     "metadata": {},
     "output_type": "execute_result"
    },
    {
     "data": {
      "image/png": "[encoded data removed]",
      "text/plain": [
       "<Figure size 432x288 with 1 Axes>"
      ]
     },
     "metadata": {
      "needs_background": "light"
     },
     "output_type": "display_data"
    }
   ],
   "source": [
    "# ROC curve for best SVM\n",
    "metrics.plot_roc_curve(svc, X_test, y_test, name='SVM')"
   ]
  },
  {
   "cell_type": "markdown",
   "id": "8q6AcarGnYI7",
   "metadata": {
    "id": "8q6AcarGnYI7"
   },
   "source": [
    "#### MLP Testing"
   ]
  },
  {
   "cell_type": "code",
   "execution_count": 30,
   "id": "BwVzwj9jOQRK",
   "metadata": {
    "colab": {
     "base_uri": "https://localhost:8080/"
    },
    "id": "BwVzwj9jOQRK",
    "outputId": "d0304085-6df5-4398-e815-e6519de30c64"
   },
   "outputs": [
    {
     "name": "stdout",
     "output_type": "stream",
     "text": [
      "              precision    recall  f1-score   support\n",
      "\n",
      "           0       0.89      0.87      0.88       953\n",
      "           1       0.15      0.17      0.16       125\n",
      "\n",
      "    accuracy                           0.79      1078\n",
      "   macro avg       0.52      0.52      0.52      1078\n",
      "weighted avg       0.80      0.79      0.80      1078\n",
      "\n"
     ]
    }
   ],
   "source": [
    "# Statistics report for best MLP\n",
    "print(classification_report(y_test.values.ravel(), mlp.predict(X_test.values)))"
   ]
  },
  {
   "cell_type": "code",
   "execution_count": 32,
   "id": "jnREXv5fQj9E",
   "metadata": {
    "colab": {
     "base_uri": "https://localhost:8080/",
     "height": 352
    },
    "id": "jnREXv5fQj9E",
    "outputId": "83d741c3-a9f8-4944-a9ca-50d51df03767"
   },
   "outputs": [
    {
     "name": "stderr",
     "output_type": "stream",
     "text": [
      "/Users/edward/opt/anaconda3/lib/python3.8/site-packages/sklearn/utils/deprecation.py:87: FutureWarning: Function plot_confusion_matrix is deprecated; Function `plot_confusion_matrix` is deprecated in 1.0 and will be removed in 1.2. Use one of the class methods: ConfusionMatrixDisplay.from_predictions or ConfusionMatrixDisplay.from_estimator.\n",
      "  warnings.warn(msg, category=FutureWarning)\n"
     ]
    },
    {
     "data": {
      "image/png": "[encoded data removed]",
      "text/plain": [
       "<Figure size 432x288 with 2 Axes>"
      ]
     },
     "metadata": {
      "needs_background": "light"
     },
     "output_type": "display_data"
    }
   ],
   "source": [
    "# Best MLP confusion matrix\n",
    "mlp_cm = plot_confusion_matrix(mlp, X_test.values, y_test.values.ravel())\n",
    "mlp_cm.ax_.set_title('Best MLP')\n",
    "plt.show()"
   ]
  },
  {
   "cell_type": "code",
   "execution_count": 36,
   "id": "Ip40qa95Qv2O",
   "metadata": {
    "colab": {
     "base_uri": "https://localhost:8080/",
     "height": 354
    },
    "id": "Ip40qa95Qv2O",
    "outputId": "48cda905-2acd-428e-a214-8674b8b18653"
   },
   "outputs": [
    {
     "name": "stderr",
     "output_type": "stream",
     "text": [
      "/Users/edward/opt/anaconda3/lib/python3.8/site-packages/sklearn/utils/deprecation.py:87: FutureWarning: Function plot_roc_curve is deprecated; Function :func:`plot_roc_curve` is deprecated in 1.0 and will be removed in 1.2. Use one of the class methods: :meth:`sklearn.metric.RocCurveDisplay.from_predictions` or :meth:`sklearn.metric.RocCurveDisplay.from_estimator`.\n",
      "  warnings.warn(msg, category=FutureWarning)\n"
     ]
    },
    {
     "data": {
      "text/plain": [
       "<sklearn.metrics._plot.roc_curve.RocCurveDisplay at 0x7f99100d5f10>"
      ]
     },
     "execution_count": 36,
     "metadata": {},
     "output_type": "execute_result"
    },
    {
     "data": {
      "image/png": "[encoded data removed]",
      "text/plain": [
       "<Figure size 432x288 with 1 Axes>"
      ]
     },
     "metadata": {
      "needs_background": "light"
     },
     "output_type": "display_data"
    }
   ],
   "source": [
    "# ROC curve for best MLP\n",
    "metrics.plot_roc_curve(mlp, X_test.values, y_test.values.ravel(), name='MLP')"
   ]
  },
  {
   "cell_type": "code",
   "execution_count": null,
   "id": "0fb87935",
   "metadata": {},
   "outputs": [],
   "source": []
  }
 ],
 "metadata": {
  "colab": {
   "collapsed_sections": [],
   "name": "Marketing Dataset - MLP vs SVMs.ipynb",
   "provenance": [],
   "toc_visible": true
  },
  "kernelspec": {
   "display_name": "Python 3",
   "language": "python",
   "name": "python3"
  },
  "language_info": {
   "codemirror_mode": {
    "name": "ipython",
    "version": 3
   },
   "file_extension": ".py",
   "mimetype": "text/x-python",
   "name": "python",
   "nbconvert_exporter": "python",
   "pygments_lexer": "ipython3",
   "version": "3.8.8"
  }
 },
 "nbformat": 4,
 "nbformat_minor": 5
}
